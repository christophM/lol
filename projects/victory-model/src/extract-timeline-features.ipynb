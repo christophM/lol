{
 "metadata": {
  "name": "",
  "signature": "sha256:709edd345dd506921e636065ad99bade5376348408f8521e0bb90a5f45f450d0"
 },
 "nbformat": 3,
 "nbformat_minor": 0,
 "worksheets": [
  {
   "cells": [
    {
     "cell_type": "markdown",
     "metadata": {},
     "source": [
      "# Extract features from timelines"
     ]
    },
    {
     "cell_type": "markdown",
     "metadata": {},
     "source": [
      "TODO:\n",
      "- for frame_to_dict function build to sub functions: events_to_dict, participantsFrame_to_dict; combine both dicts in to_dict\n",
      "- rewrite frame_to_dict to except as parameter the frame from on timestamp before and add \"sum_of_dragons_100|200\" feature and use reduce in match_to_dataset instead of [ for ...]"
     ]
    },
    {
     "cell_type": "code",
     "collapsed": false,
     "input": [
      "import os \n",
      "import numpy as np\n",
      "import json\n",
      "import pandas as pd"
     ],
     "language": "python",
     "metadata": {},
     "outputs": [],
     "prompt_number": 173
    },
    {
     "cell_type": "code",
     "collapsed": false,
     "input": [
      "def get_team_memberids(match, reference_teamId=100):\n",
      "    \"\"\" \n",
      "    Return a dictionary with participant -> team\n",
      "    \"\"\"\n",
      "    return [str(x[\"participantId\"]) for x in match[\"participants\"] if  x[\"teamId\"] == 100]\n",
      "\n",
      "\n",
      "def get_winner(match, reference_teamId=100):\n",
      "    \"\"\"\n",
      "    Extract id of winning team\n",
      "    \"\"\"\n",
      "    return filter(lambda x: x[\"teamId\"] == reference_teamId, match[\"teams\"])[0][\"winner\"]\n",
      "\n",
      "\n",
      "def frame_to_dict(frame, match_dict, team_100):\n",
      "    \"\"\"\n",
      "    Extract one frame from the timeline(frames) and build features and add label\n",
      "    INPUT: \n",
      "        frame is one frame of the timeline\n",
      "        match_dict is a dictionary with the label and features that are the same for the whole match\n",
      "        team_100 is the list of ids for member of team with id of 100\n",
      "    OUTPUT: \n",
      "        dictionairy with label and features for one frame\n",
      "    \"\"\"\n",
      "    pframes = frame[\"participantFrames\"]\n",
      "    pframes_100 = [v for k, v in pframes.iteritems() if k in team_100]\n",
      "    pframes_200 = [v for k, v in pframes.iteritems() if k not in team_100]\n",
      "\n",
      "    \n",
      "    sum_of_gold_100 = np.sum([x[\"totalGold\"] for x in pframes_100])\n",
      "    sum_of_gold_200 = np.sum([x[\"totalGold\"] for x in pframes_200])\n",
      "    \n",
      "    if \"events\" in frame:\n",
      "        dragon_kill = filter(lambda x: x[\"eventType\"] == u'ELITE_MONSTER_KILL' and \n",
      "                              x[u'monsterType'] ==  u\"DRAGON\", frame[\"events\"])\n",
      "    else: \n",
      "        dragon_kill = []\n",
      "    \n",
      "    if len(dragon_kill) > 0:\n",
      "        dragon_100 = str(dragon_kill[0][\"killerId\"]) in team_100\n",
      "        dragon_kill_100 = 1 if dragon_100 else 0\n",
      "        dragon_kill_200 = 0 if dragon_100 else 1\n",
      "    else:\n",
      "        dragon_kill_100 = 0\n",
      "        dragon_kill_200 = 0\n",
      "  \n",
      "    \n",
      "    ## sum_of_kills = 1\n",
      "    ## sum_of_towers =1\n",
      "    frame = {\"gold_100\": sum_of_gold_100, \n",
      "             \"gold_200\": sum_of_gold_200, \n",
      "             \"dragon_kill_100\": dragon_kill_100, \n",
      "             \"dragon_kill_200\": dragon_kill_200,\n",
      "             \"timestamp\": frame[\"timestamp\"] / 60000}\n",
      "    return dict(frame.items() + match_dict.items())\n",
      "\n",
      "\n",
      "def match_to_dataset(match):\n",
      "    team_100 = get_team_memberids(match)\n",
      "    winner_100 =  get_winner(match)\n",
      "    match_dict = {\"winner_100\": winner_100, \"matchId\": match[\"matchId\"]}\n",
      "    ## first frame is not informative\n",
      "    frames = match[\"timeline\"][\"frames\"][1:]\n",
      "    dataset = [frame_to_dict(frame=frame, match_dict=match_dict, team_100=team_100) for frame in frames]\n",
      "    return dataset"
     ],
     "language": "python",
     "metadata": {},
     "outputs": [],
     "prompt_number": 174
    },
    {
     "cell_type": "code",
     "collapsed": false,
     "input": [
      "## Load timelines from disk to memory\n",
      "timelines_dir = \"../data/timelines/\"\n",
      "## Loop over timelines and extract features\n",
      " \n",
      "def read_timeline(filename):\n",
      "    fname = timelines_dir + fn\n",
      "    with open(fname) as f:\n",
      "        match = json.load(f)\n",
      "    return match\n",
      "\n",
      "timelines_json = [read_timeline(fn) for fn in os.listdir(timelines_dir)]\n",
      "        \n",
      "## Build dataframe\n",
      "## Store on disk"
     ],
     "language": "python",
     "metadata": {},
     "outputs": [],
     "prompt_number": 175
    },
    {
     "cell_type": "code",
     "collapsed": false,
     "input": [
      "data_rows =  [match_to_dataset(timeline) for timeline in timelines_json]"
     ],
     "language": "python",
     "metadata": {},
     "outputs": [],
     "prompt_number": 176
    },
    {
     "cell_type": "code",
     "collapsed": false,
     "input": [
      "data_rows_flattened = [item for sublist in data_rows for item in sublist]"
     ],
     "language": "python",
     "metadata": {},
     "outputs": [],
     "prompt_number": 177
    },
    {
     "cell_type": "code",
     "collapsed": false,
     "input": [
      "timelines_df = pd.DataFrame(data_rows_flattened)"
     ],
     "language": "python",
     "metadata": {},
     "outputs": [],
     "prompt_number": 178
    },
    {
     "cell_type": "code",
     "collapsed": false,
     "input": [
      "timelines_df.to_csv(\"../data/timelines_df.csv\", index=False)"
     ],
     "language": "python",
     "metadata": {},
     "outputs": [],
     "prompt_number": 179
    },
    {
     "cell_type": "code",
     "collapsed": false,
     "input": [],
     "language": "python",
     "metadata": {},
     "outputs": []
    }
   ],
   "metadata": {}
  }
 ]
}