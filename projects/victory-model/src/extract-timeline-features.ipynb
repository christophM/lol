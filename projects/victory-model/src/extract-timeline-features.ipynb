{
 "metadata": {
  "name": "",
  "signature": "sha256:219050cbef63ab5c04ea8a96d137ccef81a7f5a616257ccf57ed67a1cd6bc36d"
 },
 "nbformat": 3,
 "nbformat_minor": 0,
 "worksheets": [
  {
   "cells": [
    {
     "cell_type": "markdown",
     "metadata": {},
     "source": [
      "# Extract features from timelines"
     ]
    },
    {
     "cell_type": "code",
     "collapsed": false,
     "input": [
      "## Load timelines from disk to memory\n",
      "## Loop over timelines and extract features\n",
      "## Build dataframe\n",
      "## Store on disk"
     ],
     "language": "python",
     "metadata": {},
     "outputs": [],
     "prompt_number": 1
    },
    {
     "cell_type": "code",
     "collapsed": false,
     "input": [
      "def get_team_memberids(match, reference_teamId=100):\n",
      "    \"\"\" \n",
      "    Return a dictionary with participant -> team\n",
      "    \"\"\"\n",
      "    return [str(x[\"participantId\"]) for x in match[\"participants\"] if  x[\"teamId\"] == 100]\n",
      "\n",
      "def extract_player_ids(match_timeline_json):\n",
      "    \"\"\" From a match timeline json extract the ids of all ten players\"\"\"\n",
      "    pass\n",
      "\n",
      "def iterate_participants(frame, func):\n",
      "    \n",
      "    return [func(x) for x in pframes]\n",
      "\n",
      "def get_features(frame, team_100):\n",
      "    \"\"\"\n",
      "    Extract one frame from the timeline(frames) and build features\n",
      "    \"\"\"\n",
      "    pframes = frame[\"participantFrames\"]\n",
      "    pframes_100 = [v for k, v in pframes.iteritems() if k in team_100]\n",
      "    pframes_200 = [v for k, v in pframes.iteritems() if k not in team_100]\n",
      "\n",
      "    sum_of_gold_100 = np.sum([x[\"totalGold\"] for x in pframes_100])\n",
      "    sum_of_gold_200 = np.sum([x[\"totalGold\"] for x in pframes_200])\n",
      "    ## sum_of_kills = 1\n",
      "    ## sum_of_towers =1\n",
      "    frame = {\"gold_100\": sum_of_gold_100, \"gold_200\": sum_of_gold_200}\n",
      "    return frame\n",
      "\n",
      "def get_winner(match, reference_teamId=100):\n",
      "    \"\"\"\n",
      "    Extract id of winning team\n",
      "    \"\"\"\n",
      "    return filter(lambda x: x[\"teamId\"] == reference_teamId, match[\"teams\"])[0][\"winner\"]\n",
      "\n",
      "def match_to_dataset(match, frame_id):\n",
      "    \"\"\"\n",
      "    Extract features and label (who is the winner)\n",
      "    \"\"\"\n",
      "    frame = match[\"timeline\"][\"frames\"][frame_id]\n",
      "    team_100 = get_team_memberids(match)\n",
      "\n",
      "    features_dict = get_features(frame, team_100)\n",
      "    winner_100 =  get_winner(match)\n",
      "    return dict(features_dict.items() + {\"winner_100\": winner_100}.items())"
     ],
     "language": "python",
     "metadata": {},
     "outputs": []
    }
   ],
   "metadata": {}
  }
 ]
}