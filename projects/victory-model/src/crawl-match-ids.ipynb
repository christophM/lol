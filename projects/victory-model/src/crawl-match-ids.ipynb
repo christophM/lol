{
 "metadata": {
  "name": "",
  "signature": "sha256:067d570b365e33de1efeb1a895e5c60f37f4965655901c41705501471b3cfb75"
 },
 "nbformat": 3,
 "nbformat_minor": 0,
 "worksheets": [
  {
   "cells": [
    {
     "cell_type": "markdown",
     "metadata": {},
     "source": [
      "# Get some match ids that can be downloaded"
     ]
    },
    {
     "cell_type": "markdown",
     "metadata": {},
     "source": [
      "TODO:\n",
      "- Download more ids (1000 or more)"
     ]
    },
    {
     "cell_type": "code",
     "collapsed": false,
     "input": [
      "import sys\n",
      "sys.path.append('/Users/chris/Projects/lol/lib/')\n",
      "import rawpi\n",
      "import json\n",
      "import numpy as np\n",
      "import time"
     ],
     "language": "python",
     "metadata": {},
     "outputs": [],
     "prompt_number": 300
    },
    {
     "cell_type": "code",
     "collapsed": false,
     "input": [
      "region = \"na\""
     ],
     "language": "python",
     "metadata": {},
     "outputs": [],
     "prompt_number": 201
    },
    {
     "cell_type": "code",
     "collapsed": false,
     "input": [
      "class PlayerCrawler():\n",
      "    \"\"\"\n",
      "    Only is there to get some player ids.\n",
      "    Start point is some player id. The crawler takes the last ten matches and checks the other player ids. \n",
      "    ids always refer to matches\n",
      "    \"\"\"\n",
      "    player_ids_done = []\n",
      "    match_ids_done = []\n",
      "    counter = 0\n",
      "    match_ids = []\n",
      "    \n",
      "    def __init__(self, start_id):\n",
      "        self.player_ids_next = [start_id]\n",
      "    \n",
      "    def start(self, n_requests=100):\n",
      "        while self.counter < n_requests:\n",
      "            self.crawl()\n",
      "    \n",
      "    ## get game_history of one player\n",
      "    ## extract the ten game_ids and store them\n",
      "    ## go to one random game, store the 10 players, check for the ones already seen\n",
      "    ## start on top\n",
      "    \n",
      "    def crawl(self):\n",
      "        time.sleep(1.01)\n",
      "        self.counter += 1\n",
      "        print \"round \", self.counter\n",
      "        player_id = self.player_ids_next.pop()\n",
      "        self.player_ids_done.append(player_id)\n",
      "        print \"Crawling player \", player_id\n",
      "        match_history = rawpi.get_matchhistory(region, player_id)\n",
      "        match_history = json.loads(match_history.text)[\"matches\"]\n",
      "        match_ids = [x[\"matchId\"] for x in match_history]\n",
      "        self.match_ids.extend(match_ids)\n",
      "        ## get random match\n",
      "        random_number = np.random.choice(range(0,9))\n",
      "        random_match = match_ids[random_number]\n",
      "        \n",
      "        match = json.loads(rawpi.get_match(region=region, matchId=random_match, includeTimeline=False).text)\n",
      "        for player in match[\"participantIdentities\"]:\n",
      "            new_id = player[\"player\"][\"summonerId\"]\n",
      "            print new_id\n",
      "            if new_id not in self.player_ids_done:\n",
      "                self.player_ids_next.append(new_id)        "
     ],
     "language": "python",
     "metadata": {},
     "outputs": [],
     "prompt_number": 290
    },
    {
     "cell_type": "code",
     "collapsed": false,
     "input": [
      "crawler = PlayerCrawler(start_id=113492)"
     ],
     "language": "python",
     "metadata": {},
     "outputs": [],
     "prompt_number": 291
    },
    {
     "cell_type": "code",
     "collapsed": false,
     "input": [
      "crawler.start(10)"
     ],
     "language": "python",
     "metadata": {},
     "outputs": [
      {
       "output_type": "stream",
       "stream": "stdout",
       "text": [
        "round  2\n",
        "Crawling player  30965265\n",
        "21081020"
       ]
      },
      {
       "output_type": "stream",
       "stream": "stdout",
       "text": [
        "\n",
        "24551342\n",
        "40589282\n",
        "31717933\n",
        "24790926\n",
        "43505215\n",
        "28863958\n",
        "48481902\n",
        "30965265\n",
        "24026548\n",
        "round "
       ]
      },
      {
       "output_type": "stream",
       "stream": "stdout",
       "text": [
        " 3\n",
        "Crawling player  24026548\n",
        "24026548"
       ]
      },
      {
       "output_type": "stream",
       "stream": "stdout",
       "text": [
        "\n",
        "44321789\n",
        "20647433\n",
        "44383981\n",
        "19723339\n",
        "50689165\n",
        "52265614\n",
        "22530230\n",
        "35432621\n",
        "32211495\n",
        "round "
       ]
      },
      {
       "output_type": "stream",
       "stream": "stdout",
       "text": [
        " 4\n",
        "Crawling player  32211495\n",
        "35749289"
       ]
      },
      {
       "output_type": "stream",
       "stream": "stdout",
       "text": [
        "\n",
        "39930779\n",
        "31011431\n",
        "23909786\n",
        "32211495\n",
        "22020559\n",
        "20014621\n",
        "32297608\n",
        "47050770\n",
        "30382010\n",
        "round "
       ]
      },
      {
       "output_type": "stream",
       "stream": "stdout",
       "text": [
        " 5\n",
        "Crawling player  30382010\n",
        "343857"
       ]
      },
      {
       "output_type": "stream",
       "stream": "stdout",
       "text": [
        "\n",
        "30382010\n",
        "35741982\n",
        "20014621\n",
        "24992796\n",
        "22003690\n",
        "19830948\n",
        "20404613\n",
        "36717566\n",
        "21750180\n",
        "round "
       ]
      },
      {
       "output_type": "stream",
       "stream": "stdout",
       "text": [
        " 6\n",
        "Crawling player  21750180\n",
        "35980578"
       ]
      },
      {
       "output_type": "stream",
       "stream": "stdout",
       "text": [
        "\n",
        "30149972\n",
        "30868465\n",
        "104131\n",
        "24763927\n",
        "40700790\n",
        "50173296\n",
        "22772014\n",
        "21750180\n",
        "20880551\n",
        "round "
       ]
      },
      {
       "output_type": "stream",
       "stream": "stdout",
       "text": [
        " 7\n",
        "Crawling player  20880551\n",
        "46335915"
       ]
      },
      {
       "output_type": "stream",
       "stream": "stdout",
       "text": [
        "\n",
        "31555714\n",
        "50695739\n",
        "28681446\n",
        "20880551\n",
        "26153720\n",
        "41340475\n",
        "25610448\n",
        "31564456\n",
        "24143112\n",
        "round "
       ]
      },
      {
       "output_type": "stream",
       "stream": "stdout",
       "text": [
        " 8\n",
        "Crawling player  24143112\n",
        "39876162"
       ]
      },
      {
       "output_type": "stream",
       "stream": "stdout",
       "text": [
        "\n",
        "25791951\n",
        "28269496\n",
        "35512107\n",
        "47155398\n",
        "51724564\n",
        "23759176\n",
        "22289118\n",
        "24143112\n",
        "65659774\n",
        "round "
       ]
      },
      {
       "output_type": "stream",
       "stream": "stdout",
       "text": [
        " 9\n",
        "Crawling player  65659774\n",
        "65659774"
       ]
      },
      {
       "output_type": "stream",
       "stream": "stdout",
       "text": [
        "\n",
        "48362621\n",
        "27241687\n",
        "37058231\n",
        "51724564\n",
        "5881\n",
        "38821371\n",
        "20168106\n",
        "36141222\n",
        "22662943\n",
        "round "
       ]
      },
      {
       "output_type": "stream",
       "stream": "stdout",
       "text": [
        " 10\n",
        "Crawling player  22662943\n",
        "43552215"
       ]
      },
      {
       "output_type": "stream",
       "stream": "stdout",
       "text": [
        "\n",
        "30953920\n",
        "39207995\n",
        "35842170\n",
        "31198074\n",
        "27930153\n",
        "21315835\n",
        "35113984\n",
        "26441177\n",
        "22662943\n"
       ]
      }
     ],
     "prompt_number": 295
    },
    {
     "cell_type": "code",
     "collapsed": false,
     "input": [
      "ids = map(str, set(crawler.match_ids))"
     ],
     "language": "python",
     "metadata": {},
     "outputs": [],
     "prompt_number": 304
    },
    {
     "cell_type": "code",
     "collapsed": false,
     "input": [
      "f = open('../data/match-ids.txt','w')\n",
      "f.write(\"\\n\".join(ids)) \n",
      "f.close() "
     ],
     "language": "python",
     "metadata": {},
     "outputs": [],
     "prompt_number": 305
    }
   ],
   "metadata": {}
  }
 ]
}