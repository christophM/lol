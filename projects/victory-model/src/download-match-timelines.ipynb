{
 "metadata": {
  "name": "",
  "signature": "sha256:07487636338776e6f524f3ac32d638838a62a1a847ba95af5665a34463ca37f3"
 },
 "nbformat": 3,
 "nbformat_minor": 0,
 "worksheets": [
  {
   "cells": [
    {
     "cell_type": "markdown",
     "metadata": {},
     "source": [
      "# Load matches"
     ]
    },
    {
     "cell_type": "code",
     "collapsed": false,
     "input": [
      "import sys\n",
      "sys.path.append('/Users/chris/Projects/lol/lib/')\n",
      "import rawpi\n",
      "import json\n",
      "import time"
     ],
     "language": "python",
     "metadata": {},
     "outputs": [],
     "prompt_number": 22
    },
    {
     "cell_type": "code",
     "collapsed": false,
     "input": [
      "## Load match ids from file\n",
      "fname = \"../data/match-ids.txt\"\n",
      "with open(fname) as f:\n",
      "    match_ids = map(int, f.readlines())\n",
      "\n",
      "## loop over ids and download timelines\n",
      "## store timelines as json"
     ],
     "language": "python",
     "metadata": {},
     "outputs": [],
     "prompt_number": 7
    },
    {
     "cell_type": "code",
     "collapsed": false,
     "input": [
      "def match_by_id_to_file(match_id, data_dir=\"../data/timelines/\", region=\"na\"):\n",
      "    match = rawpi.get_match(region=region, matchId=match_id, includeTimeline=True).text\n",
      "    match_json = json.loads(match)\n",
      "    filename = \"%sgame-timeline-%s-%i.json\" % (data_dir, region, match_id)\n",
      "    with open(filename, 'w') as outfile:\n",
      "        json.dump(match_json, outfile)"
     ],
     "language": "python",
     "metadata": {},
     "outputs": [],
     "prompt_number": 20
    },
    {
     "cell_type": "code",
     "collapsed": false,
     "input": [
      "for match_id in match_ids: \n",
      "    time.sleep(0.1)\n",
      "    match_by_id_to_file(match_id)"
     ],
     "language": "python",
     "metadata": {},
     "outputs": [],
     "prompt_number": 19
    }
   ],
   "metadata": {}
  }
 ]
}