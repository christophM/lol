{
 "metadata": {
  "name": "",
  "signature": "sha256:38a672575dbbd51ae5bfe330b96a5912b8e6dadfef2ad58fe96a05cca955ba47"
 },
 "nbformat": 3,
 "nbformat_minor": 0,
 "worksheets": [
  {
   "cells": [
    {
     "cell_type": "markdown",
     "metadata": {},
     "source": [
      "# Get some match ids that can be downloaded"
     ]
    },
    {
     "cell_type": "markdown",
     "metadata": {},
     "source": [
      "TODO:\n",
      "- Add error catching if there comes bullshit from the API\n",
      "- Download more ids (1000 or more)\n"
     ]
    },
    {
     "cell_type": "code",
     "collapsed": false,
     "input": [
      "import sys\n",
      "sys.path.append('/Users/chris/Projects/lol/lib/')\n",
      "import rawpi\n",
      "import json\n",
      "import numpy as np\n",
      "import time"
     ],
     "language": "python",
     "metadata": {},
     "outputs": [],
     "prompt_number": 1
    },
    {
     "cell_type": "code",
     "collapsed": false,
     "input": [
      "region = \"na\""
     ],
     "language": "python",
     "metadata": {},
     "outputs": [],
     "prompt_number": 2
    },
    {
     "cell_type": "code",
     "collapsed": false,
     "input": [
      "class PlayerCrawler():\n",
      "    \"\"\"\n",
      "    Only is there to get some player ids.\n",
      "    Start point is some player id. The crawler takes the last ten matches and checks the other player ids. \n",
      "    ids always refer to matches\n",
      "    \"\"\"\n",
      "    player_ids_done = []\n",
      "    match_ids_done = []\n",
      "    counter = 0\n",
      "    match_ids = []\n",
      "    \n",
      "    def __init__(self, start_id):\n",
      "        self.player_ids_next = [start_id]\n",
      "    \n",
      "    def start(self, n_requests=100):\n",
      "        while self.counter < n_requests:\n",
      "            self.crawl()\n",
      "    \n",
      "    ## get game_history of one player\n",
      "    ## extract the ten game_ids and store them\n",
      "    ## go to one random game, store the 10 players, check for the ones already seen\n",
      "    ## start on top\n",
      "    \n",
      "    def crawl(self):\n",
      "        time.sleep(1.01)\n",
      "        self.counter += 1\n",
      "        print \"round \", self.counter\n",
      "        player_id = self.player_ids_next.pop()\n",
      "        self.player_ids_done.append(player_id)\n",
      "        print \"Crawling player \", player_id\n",
      "        match_history = rawpi.get_matchhistory(region, player_id)\n",
      "        match_history = json.loads(match_history.text)[\"matches\"]\n",
      "        match_ids = [x[\"matchId\"] for x in match_history]\n",
      "        self.match_ids.extend(match_ids)\n",
      "        ## get random match\n",
      "        random_number = np.random.choice(range(0,9))\n",
      "        random_match = match_ids[random_number]\n",
      "        \n",
      "        match = json.loads(rawpi.get_match(region=region, matchId=random_match, includeTimeline=False).text)\n",
      "        for player in match[\"participantIdentities\"]:\n",
      "            new_id = player[\"player\"][\"summonerId\"]\n",
      "            print new_id\n",
      "            if new_id not in self.player_ids_done:\n",
      "                self.player_ids_next.append(new_id)        "
     ],
     "language": "python",
     "metadata": {},
     "outputs": [],
     "prompt_number": 3
    },
    {
     "cell_type": "code",
     "collapsed": false,
     "input": [
      "crawler = PlayerCrawler(start_id=113492)"
     ],
     "language": "python",
     "metadata": {},
     "outputs": [],
     "prompt_number": 4
    },
    {
     "cell_type": "code",
     "collapsed": false,
     "input": [
      "crawler.start(100)"
     ],
     "language": "python",
     "metadata": {},
     "outputs": [
      {
       "output_type": "stream",
       "stream": "stdout",
       "text": [
        "round  1\n",
        "Crawling player  113492\n",
        "27462926"
       ]
      },
      {
       "output_type": "stream",
       "stream": "stdout",
       "text": [
        "\n",
        "38659769\n",
        "25523013\n",
        "28903648\n",
        "22234764\n",
        "45386086\n",
        "113492\n",
        "22318988\n",
        "45216345\n",
        "19626569\n",
        "round "
       ]
      },
      {
       "output_type": "stream",
       "stream": "stdout",
       "text": [
        " 2\n",
        "Crawling player  19626569\n",
        "46579080"
       ]
      },
      {
       "output_type": "stream",
       "stream": "stdout",
       "text": [
        "\n",
        "19626569\n",
        "37699190\n",
        "19606482\n",
        "19956763\n",
        "24262096\n",
        "23172676\n",
        "49332271\n",
        "36761584\n",
        "40038871\n",
        "round "
       ]
      },
      {
       "output_type": "stream",
       "stream": "stdout",
       "text": [
        " 3\n",
        "Crawling player  40038871\n",
        "46579080"
       ]
      },
      {
       "output_type": "stream",
       "stream": "stdout",
       "text": [
        "\n",
        "19626569\n",
        "37699190\n",
        "19606482\n",
        "19956763\n",
        "24262096\n",
        "23172676\n",
        "49332271\n",
        "36761584\n",
        "40038871\n",
        "round "
       ]
      },
      {
       "output_type": "stream",
       "stream": "stdout",
       "text": [
        " 4\n",
        "Crawling player  36761584\n",
        "20318158"
       ]
      },
      {
       "output_type": "stream",
       "stream": "stdout",
       "text": [
        "\n",
        "50777498\n",
        "32029199\n",
        "35763718\n",
        "32405638\n",
        "27213998\n",
        "38822264\n",
        "36761584\n",
        "30518282\n",
        "34962105\n",
        "round "
       ]
      },
      {
       "output_type": "stream",
       "stream": "stdout",
       "text": [
        " 5\n",
        "Crawling player  34962105\n",
        "25242469"
       ]
      },
      {
       "output_type": "stream",
       "stream": "stdout",
       "text": [
        "\n",
        "59312418\n",
        "45759205\n",
        "29627474\n",
        "25680022\n",
        "26560738\n",
        "46243563\n",
        "30120511\n",
        "20740519\n",
        "34962105\n",
        "round "
       ]
      },
      {
       "output_type": "stream",
       "stream": "stdout",
       "text": [
        " 6\n",
        "Crawling player  20740519\n",
        "20227796"
       ]
      },
      {
       "output_type": "stream",
       "stream": "stdout",
       "text": [
        "\n",
        "19228648\n",
        "584897\n",
        "23933270\n",
        "23193747\n",
        "44794425\n",
        "20740519\n",
        "24816022\n",
        "25871178\n",
        "26878727\n",
        "round "
       ]
      },
      {
       "output_type": "stream",
       "stream": "stdout",
       "text": [
        " 7\n",
        "Crawling player  26878727\n",
        "48163681"
       ]
      },
      {
       "output_type": "stream",
       "stream": "stdout",
       "text": [
        "\n",
        "35801102\n",
        "35784177\n",
        "21329292\n",
        "47536865\n",
        "22287293\n",
        "36563510\n",
        "26878727\n",
        "30883675\n",
        "27349334\n",
        "round "
       ]
      },
      {
       "output_type": "stream",
       "stream": "stdout",
       "text": [
        " 8\n",
        "Crawling player  27349334\n",
        "25539567"
       ]
      },
      {
       "output_type": "stream",
       "stream": "stdout",
       "text": [
        "\n",
        "40723754\n",
        "47680990\n",
        "39304269\n",
        "56468426\n",
        "27349334\n",
        "43923351\n",
        "47073233\n",
        "30431230\n",
        "36563510\n",
        "round "
       ]
      },
      {
       "output_type": "stream",
       "stream": "stdout",
       "text": [
        " 9\n",
        "Crawling player  36563510\n",
        "22298217"
       ]
      },
      {
       "output_type": "stream",
       "stream": "stdout",
       "text": [
        "\n",
        "38999694\n",
        "26593929\n",
        "44030077\n",
        "37858602\n",
        "37410935\n",
        "40541417\n",
        "27349334\n",
        "36531485\n",
        "36563510\n",
        "round "
       ]
      },
      {
       "output_type": "stream",
       "stream": "stdout",
       "text": [
        " 10\n",
        "Crawling player  36531485\n",
        "52130510"
       ]
      },
      {
       "output_type": "stream",
       "stream": "stdout",
       "text": [
        "\n",
        "21691102\n",
        "62283719\n",
        "30325193\n",
        "36531485\n",
        "32296380\n",
        "37051510\n",
        "43010910\n",
        "21958510\n",
        "46300724\n",
        "round "
       ]
      },
      {
       "output_type": "stream",
       "stream": "stdout",
       "text": [
        " 11\n",
        "Crawling player  46300724\n",
        "25425220"
       ]
      },
      {
       "output_type": "stream",
       "stream": "stdout",
       "text": [
        "\n",
        "46642033\n",
        "34192049\n",
        "62259809\n",
        "35805546\n",
        "19496499\n",
        "19362739\n",
        "46300724\n",
        "29232422\n",
        "39586686\n",
        "round "
       ]
      },
      {
       "output_type": "stream",
       "stream": "stdout",
       "text": [
        " 12\n",
        "Crawling player  39586686\n",
        "28892019"
       ]
      },
      {
       "output_type": "stream",
       "stream": "stdout",
       "text": [
        "\n",
        "28383510\n",
        "47359713\n",
        "46119470\n",
        "25407177\n",
        "44770560\n",
        "20865897\n",
        "39586686\n",
        "44940377\n",
        "28666170\n",
        "round "
       ]
      },
      {
       "output_type": "stream",
       "stream": "stdout",
       "text": [
        " 13\n",
        "Crawling player  28666170\n",
        "47841470"
       ]
      },
      {
       "output_type": "stream",
       "stream": "stdout",
       "text": [
        "\n",
        "470869\n",
        "43289116\n",
        "19819671\n",
        "32424776\n",
        "21889784\n",
        "24584685\n",
        "32639374\n",
        "28666170\n",
        "36655116\n",
        "round "
       ]
      },
      {
       "output_type": "stream",
       "stream": "stdout",
       "text": [
        " 14\n",
        "Crawling player  36655116\n",
        "30911629"
       ]
      },
      {
       "output_type": "stream",
       "stream": "stdout",
       "text": [
        "\n",
        "35162868\n",
        "53794422\n",
        "35252817\n",
        "25353200\n",
        "36990117\n",
        "31190431\n",
        "49989118\n",
        "460518\n",
        "36655116\n",
        "round "
       ]
      },
      {
       "output_type": "stream",
       "stream": "stdout",
       "text": [
        " 15\n",
        "Crawling player  460518\n",
        "22279125"
       ]
      },
      {
       "output_type": "stream",
       "stream": "stdout",
       "text": [
        "\n",
        "460518\n",
        "25376597\n",
        "21634604\n",
        "35364124\n",
        "40030703\n",
        "40061964\n",
        "35611487\n",
        "40981770\n",
        "59589154\n",
        "round "
       ]
      },
      {
       "output_type": "stream",
       "stream": "stdout",
       "text": [
        " 16\n",
        "Crawling player  59589154\n",
        "19972094"
       ]
      },
      {
       "output_type": "stream",
       "stream": "stdout",
       "text": [
        "\n",
        "19339458\n",
        "41251806\n",
        "39310125\n",
        "22056841\n",
        "59589154\n",
        "20046398\n",
        "36902431\n",
        "25055709\n",
        "23569070\n",
        "round "
       ]
      },
      {
       "output_type": "stream",
       "stream": "stdout",
       "text": [
        " 17\n",
        "Crawling player  23569070\n",
        "38634153"
       ]
      },
      {
       "output_type": "stream",
       "stream": "stdout",
       "text": [
        "\n",
        "49952762\n",
        "28870043\n",
        "42072794\n",
        "20749152\n",
        "22300435\n",
        "36902431\n",
        "56876711\n",
        "23569070\n",
        "28773370\n",
        "round "
       ]
      },
      {
       "output_type": "stream",
       "stream": "stdout",
       "text": [
        " 18\n",
        "Crawling player  28773370\n",
        "35225098"
       ]
      },
      {
       "output_type": "stream",
       "stream": "stdout",
       "text": [
        "\n",
        "65319285\n",
        "21233158\n",
        "37803379\n",
        "28773370\n",
        "286733\n",
        "22022037\n",
        "45164529\n",
        "30380196\n",
        "303720\n",
        "round "
       ]
      },
      {
       "output_type": "stream",
       "stream": "stdout",
       "text": [
        " 19\n",
        "Crawling player  303720\n",
        "36071571"
       ]
      },
      {
       "output_type": "stream",
       "stream": "stdout",
       "text": [
        "\n",
        "20672722\n",
        "31977647\n",
        "26265078\n",
        "21439433\n",
        "303720\n",
        "37144530\n",
        "23636043\n",
        "27191509\n",
        "31740117\n",
        "round "
       ]
      },
      {
       "output_type": "stream",
       "stream": "stdout",
       "text": [
        " 20\n",
        "Crawling player  31740117\n",
        "21090872"
       ]
      },
      {
       "output_type": "stream",
       "stream": "stdout",
       "text": [
        "\n",
        "38802680\n",
        "20360930\n",
        "24766049\n",
        "20319890\n",
        "31740117\n",
        "19880278\n",
        "21053169\n",
        "19853822\n",
        "24451168\n",
        "round "
       ]
      },
      {
       "output_type": "stream",
       "stream": "stdout",
       "text": [
        " 21\n",
        "Crawling player  24451168\n",
        "21090872"
       ]
      },
      {
       "output_type": "stream",
       "stream": "stdout",
       "text": [
        "\n",
        "38802680\n",
        "20360930\n",
        "24766049\n",
        "20319890\n",
        "31740117\n",
        "19880278\n",
        "21053169\n",
        "19853822\n",
        "24451168\n",
        "round "
       ]
      },
      {
       "output_type": "stream",
       "stream": "stdout",
       "text": [
        " 22\n",
        "Crawling player  19853822\n",
        "60014002"
       ]
      },
      {
       "output_type": "stream",
       "stream": "stdout",
       "text": [
        "\n",
        "24831995\n",
        "19853822\n",
        "26184155\n",
        "26600312\n",
        "30397116\n",
        "21993077\n",
        "30063225\n",
        "44916620\n",
        "30636032\n",
        "round "
       ]
      },
      {
       "output_type": "stream",
       "stream": "stdout",
       "text": [
        " 23\n",
        "Crawling player  30636032\n",
        "21989823"
       ]
      },
      {
       "output_type": "stream",
       "stream": "stdout",
       "text": [
        "\n",
        "21993077\n",
        "32582621\n",
        "420386\n",
        "30636032\n",
        "24450710\n",
        "24258686\n",
        "20906516\n",
        "22612047\n",
        "20441070\n",
        "round "
       ]
      },
      {
       "output_type": "stream",
       "stream": "stdout",
       "text": [
        " 24\n",
        "Crawling player  20441070\n",
        "19985596"
       ]
      },
      {
       "output_type": "stream",
       "stream": "stdout",
       "text": [
        "\n",
        "21538492\n",
        "20610075\n",
        "20253072\n",
        "37037843\n",
        "20441070\n",
        "24000472\n",
        "22247219\n",
        "22497176\n",
        "30035428\n",
        "round "
       ]
      },
      {
       "output_type": "stream",
       "stream": "stdout",
       "text": [
        " 25\n",
        "Crawling player  30035428\n",
        "25563726"
       ]
      },
      {
       "output_type": "stream",
       "stream": "stdout",
       "text": [
        "\n",
        "20188837\n",
        "19490170\n",
        "23965783\n",
        "23177600\n",
        "22657199\n",
        "25522486\n",
        "19046059\n",
        "30035428\n",
        "27291302\n",
        "round "
       ]
      },
      {
       "output_type": "stream",
       "stream": "stdout",
       "text": [
        " 26\n",
        "Crawling player  27291302\n",
        "296678"
       ]
      },
      {
       "output_type": "stream",
       "stream": "stdout",
       "text": [
        "\n",
        "29504386\n",
        "25833940\n",
        "31331183\n",
        "24242423\n",
        "38249375\n",
        "19440654\n",
        "20072604\n",
        "23460230\n",
        "27291302\n",
        "round "
       ]
      },
      {
       "output_type": "stream",
       "stream": "stdout",
       "text": [
        " 27\n",
        "Crawling player  23460230\n",
        "22941167"
       ]
      },
      {
       "output_type": "stream",
       "stream": "stdout",
       "text": [
        "\n",
        "31014009\n",
        "39544048\n",
        "20971952\n",
        "36450379\n",
        "21366420\n",
        "28920560\n",
        "21332616\n",
        "24494578\n",
        "23460230\n",
        "round "
       ]
      },
      {
       "output_type": "stream",
       "stream": "stdout",
       "text": [
        " 28\n",
        "Crawling player  24494578\n",
        "28718115"
       ]
      },
      {
       "output_type": "stream",
       "stream": "stdout",
       "text": [
        "\n",
        "65409090\n",
        "34018967\n",
        "25738593\n",
        "63553676\n",
        "20579425\n",
        "23453976\n",
        "23050296\n",
        "24494578\n",
        "65009356\n",
        "round "
       ]
      },
      {
       "output_type": "stream",
       "stream": "stdout",
       "text": [
        " 29\n",
        "Crawling player  65009356\n",
        "65409091"
       ]
      },
      {
       "output_type": "stream",
       "stream": "stdout",
       "text": [
        "\n",
        "65009356\n",
        "51409228\n",
        "47836799\n",
        "21490433\n",
        "47046416\n",
        "61542283\n",
        "34287847\n",
        "64420616\n",
        "63553676\n",
        "round "
       ]
      },
      {
       "output_type": "stream",
       "stream": "stdout",
       "text": [
        " 30\n",
        "Crawling player  63553676\n",
        "21238911"
       ]
      },
      {
       "output_type": "stream",
       "stream": "stdout",
       "text": [
        "\n",
        "34925733\n",
        "31014009\n",
        "31670053\n",
        "65409097\n",
        "26676087\n",
        "200553\n",
        "39544048\n",
        "23050296\n",
        "63553676\n",
        "round "
       ]
      },
      {
       "output_type": "stream",
       "stream": "stdout",
       "text": [
        " 31\n",
        "Crawling player  23050296\n",
        "23050296"
       ]
      },
      {
       "output_type": "stream",
       "stream": "stdout",
       "text": [
        "\n",
        "34287847\n",
        "39040566\n",
        "20218807\n",
        "21402394\n",
        "65409091\n",
        "21705406\n",
        "22058902\n",
        "61542283\n",
        "65409090\n",
        "round "
       ]
      },
      {
       "output_type": "stream",
       "stream": "stdout",
       "text": [
        " 32\n",
        "Crawling player  65409090\n",
        "30871780"
       ]
      },
      {
       "output_type": "stream",
       "stream": "stdout",
       "text": [
        "\n",
        "65409090\n",
        "24494578\n",
        "25833940\n",
        "32235221\n",
        "22941167\n",
        "20176128\n",
        "45596407\n",
        "43146839\n",
        "19024580\n",
        "round "
       ]
      },
      {
       "output_type": "stream",
       "stream": "stdout",
       "text": [
        " 33\n",
        "Crawling player  19024580\n",
        "30871780"
       ]
      },
      {
       "output_type": "stream",
       "stream": "stdout",
       "text": [
        "\n",
        "65409090\n",
        "24494578\n",
        "25833940\n",
        "32235221\n",
        "22941167\n",
        "20176128\n",
        "45596407\n",
        "43146839\n",
        "19024580\n",
        "round "
       ]
      },
      {
       "output_type": "stream",
       "stream": "stdout",
       "text": [
        " 34\n",
        "Crawling player  43146839\n",
        "20610274"
       ]
      },
      {
       "output_type": "stream",
       "stream": "stdout",
       "text": [
        "\n",
        "19275688\n",
        "23907257\n",
        "19665819\n",
        "45596407\n",
        "24558219\n",
        "21428047\n",
        "21242533\n",
        "30206248\n",
        "43146839\n",
        "round "
       ]
      },
      {
       "output_type": "stream",
       "stream": "stdout",
       "text": [
        " 35\n",
        "Crawling player  30206248\n",
        "20115278"
       ]
      },
      {
       "output_type": "stream",
       "stream": "stdout",
       "text": [
        "\n",
        "20564090\n",
        "30255016\n",
        "61109241\n",
        "22531788\n",
        "237437\n",
        "24142707\n",
        "30206248\n",
        "21059607\n",
        "21763595\n",
        "round "
       ]
      },
      {
       "output_type": "stream",
       "stream": "stdout",
       "text": [
        " 36\n",
        "Crawling player  21763595\n",
        "65399097"
       ]
      },
      {
       "output_type": "stream",
       "stream": "stdout",
       "text": [
        "\n",
        "20579425\n",
        "20704242\n",
        "25073591\n",
        "27172867\n",
        "65399100\n",
        "24210254\n",
        "21763595\n",
        "20951687\n",
        "25522486\n",
        "round "
       ]
      },
      {
       "output_type": "stream",
       "stream": "stdout",
       "text": [
        " 37\n",
        "Crawling player  25522486\n",
        "28987430"
       ]
      },
      {
       "output_type": "stream",
       "stream": "stdout",
       "text": [
        "\n",
        "25522486\n",
        "55949610\n",
        "46046029\n",
        "24491307\n",
        "53268792\n",
        "22666194\n",
        "53742348\n",
        "29284296\n",
        "32582621\n",
        "round "
       ]
      },
      {
       "output_type": "stream",
       "stream": "stdout",
       "text": [
        " 38\n",
        "Crawling player  32582621\n",
        "21989823"
       ]
      },
      {
       "output_type": "stream",
       "stream": "stdout",
       "text": [
        "\n",
        "21993077\n",
        "32582621\n",
        "420386\n",
        "30636032\n",
        "24450710\n",
        "24258686\n",
        "20906516\n",
        "22612047\n",
        "20441070\n",
        "round "
       ]
      },
      {
       "output_type": "stream",
       "stream": "stdout",
       "text": [
        " 39\n",
        "Crawling player  22612047\n",
        "32861979"
       ]
      },
      {
       "output_type": "stream",
       "stream": "stdout",
       "text": [
        "\n",
        "21319524\n",
        "22612047\n",
        "23560317\n",
        "19221645\n",
        "30405246\n",
        "43511218\n",
        "26854117\n",
        "59433065\n",
        "20935440\n",
        "round "
       ]
      },
      {
       "output_type": "stream",
       "stream": "stdout",
       "text": [
        " 40\n",
        "Crawling player  20935440\n",
        "62372968"
       ]
      },
      {
       "output_type": "stream",
       "stream": "stdout",
       "text": [
        "\n",
        "23185795\n",
        "37929319\n",
        "30963006\n",
        "25900163\n",
        "26600312\n",
        "28892821\n",
        "21013032\n",
        "21622101\n",
        "20935440\n",
        "round "
       ]
      },
      {
       "output_type": "stream",
       "stream": "stdout",
       "text": [
        " 41\n",
        "Crawling player  21622101\n",
        "20115427"
       ]
      },
      {
       "output_type": "stream",
       "stream": "stdout",
       "text": [
        "\n",
        "31784480\n",
        "22597639\n",
        "39243255\n",
        "19077063\n",
        "21622101\n",
        "22063281\n",
        "21461669\n",
        "23162549\n",
        "35787948\n",
        "round "
       ]
      },
      {
       "output_type": "stream",
       "stream": "stdout",
       "text": [
        " 42\n",
        "Crawling player  35787948\n",
        "587678"
       ]
      },
      {
       "output_type": "stream",
       "stream": "stdout",
       "text": [
        "\n",
        "54879107\n",
        "34750933\n",
        "43117725\n",
        "26433153\n",
        "35787948\n",
        "65611059\n",
        "35604757\n",
        "23681648\n",
        "41216897\n",
        "round "
       ]
      },
      {
       "output_type": "stream",
       "stream": "stdout",
       "text": [
        " 43\n",
        "Crawling player  41216897\n",
        "20610075"
       ]
      },
      {
       "output_type": "stream",
       "stream": "stdout",
       "text": [
        "\n",
        "23258384\n",
        "41216897\n",
        "65389233\n",
        "20438241\n",
        "38886982\n",
        "31087644\n",
        "23040313\n",
        "24618834\n",
        "30365121\n",
        "round "
       ]
      },
      {
       "output_type": "stream",
       "stream": "stdout",
       "text": [
        " 44\n",
        "Crawling player  30365121\n",
        "20598272"
       ]
      },
      {
       "output_type": "stream",
       "stream": "stdout",
       "text": [
        "\n",
        "30365121\n",
        "36652574\n",
        "38886982\n",
        "19995797\n",
        "29821195\n",
        "21031058\n",
        "20995669\n",
        "35463974\n",
        "50600522\n",
        "round "
       ]
      },
      {
       "output_type": "stream",
       "stream": "stdout",
       "text": [
        " 45\n",
        "Crawling player  50600522\n",
        "296678"
       ]
      },
      {
       "output_type": "stream",
       "stream": "stdout",
       "text": [
        "\n",
        "47409241\n",
        "23005036\n",
        "50600522\n",
        "46290628\n",
        "456710\n",
        "19286710\n",
        "23664903\n",
        "19134540\n",
        "28336680\n",
        "round "
       ]
      },
      {
       "output_type": "stream",
       "stream": "stdout",
       "text": [
        " 46\n",
        "Crawling player  28336680\n",
        "31625940"
       ]
      },
      {
       "output_type": "stream",
       "stream": "stdout",
       "text": [
        "\n",
        "22687570\n",
        "32619305\n",
        "31566381\n",
        "23965783\n",
        "28336680\n",
        "24342397\n",
        "27794083\n",
        "32520403\n",
        "22196059\n",
        "round "
       ]
      },
      {
       "output_type": "stream",
       "stream": "stdout",
       "text": [
        " 47\n",
        "Crawling player  22196059\n",
        "19286710"
       ]
      },
      {
       "output_type": "stream",
       "stream": "stdout",
       "text": [
        "\n",
        "19537139\n",
        "23054863\n",
        "27229681\n",
        "21106779\n",
        "19322489\n",
        "22196059\n",
        "20759747\n",
        "26460764\n",
        "23481572\n",
        "round "
       ]
      },
      {
       "output_type": "stream",
       "stream": "stdout",
       "text": [
        " 48\n",
        "Crawling player  23481572\n",
        "22753284"
       ]
      },
      {
       "output_type": "stream",
       "stream": "stdout",
       "text": [
        "\n",
        "1821\n",
        "35169501\n",
        "50070623\n",
        "26735805\n",
        "20115278\n",
        "45344815\n",
        "23481572\n",
        "19874545\n",
        "28352688\n",
        "round "
       ]
      },
      {
       "output_type": "stream",
       "stream": "stdout",
       "text": [
        " 49\n",
        "Crawling player  28352688\n",
        "48979236"
       ]
      },
      {
       "output_type": "stream",
       "stream": "stdout",
       "text": [
        "\n",
        "23005036\n",
        "50600522\n",
        "25786675\n",
        "26039354\n",
        "28352688\n",
        "24922145\n",
        "39641143\n",
        "19046059\n",
        "20179683\n",
        "round "
       ]
      },
      {
       "output_type": "stream",
       "stream": "stdout",
       "text": [
        " 50\n",
        "Crawling player  20179683\n",
        "25786675"
       ]
      },
      {
       "output_type": "stream",
       "stream": "stdout",
       "text": [
        "\n",
        "23549415\n",
        "399375\n",
        "20179683\n",
        "22687570\n",
        "19424219\n",
        "44549347\n",
        "38757901\n",
        "60329248\n",
        "31566381\n",
        "round "
       ]
      },
      {
       "output_type": "stream",
       "stream": "stdout",
       "text": [
        " 51\n",
        "Crawling player  31566381\n",
        "31566381"
       ]
      },
      {
       "output_type": "stream",
       "stream": "stdout",
       "text": [
        "\n",
        "25380105\n",
        "27749594\n",
        "35239522\n",
        "30104714\n",
        "23206977\n",
        "round "
       ]
      },
      {
       "output_type": "stream",
       "stream": "stdout",
       "text": [
        " 52\n",
        "Crawling player  23206977\n",
        "21716895"
       ]
      },
      {
       "output_type": "stream",
       "stream": "stdout",
       "text": [
        "\n",
        "25794945\n",
        "25033032\n",
        "25020946\n",
        "19834174\n",
        "28901235\n",
        "24897421\n",
        "37455984\n",
        "30520560\n",
        "23206977\n",
        "round "
       ]
      },
      {
       "output_type": "stream",
       "stream": "stdout",
       "text": [
        " 53\n",
        "Crawling player  30520560\n"
       ]
      },
      {
       "ename": "ValueError",
       "evalue": "No JSON object could be decoded",
       "output_type": "pyerr",
       "traceback": [
        "\u001b[0;31m---------------------------------------------------------------------------\u001b[0m\n\u001b[0;31mValueError\u001b[0m                                Traceback (most recent call last)",
        "\u001b[0;32m<ipython-input-5-cdf96743a095>\u001b[0m in \u001b[0;36m<module>\u001b[0;34m()\u001b[0m\n\u001b[0;32m----> 1\u001b[0;31m \u001b[0mcrawler\u001b[0m\u001b[0;34m.\u001b[0m\u001b[0mstart\u001b[0m\u001b[0;34m(\u001b[0m\u001b[0;36m100\u001b[0m\u001b[0;34m)\u001b[0m\u001b[0;34m\u001b[0m\u001b[0m\n\u001b[0m",
        "\u001b[0;32m<ipython-input-3-fbe90d07acf6>\u001b[0m in \u001b[0;36mstart\u001b[0;34m(self, n_requests)\u001b[0m\n\u001b[1;32m     15\u001b[0m     \u001b[0;32mdef\u001b[0m \u001b[0mstart\u001b[0m\u001b[0;34m(\u001b[0m\u001b[0mself\u001b[0m\u001b[0;34m,\u001b[0m \u001b[0mn_requests\u001b[0m\u001b[0;34m=\u001b[0m\u001b[0;36m100\u001b[0m\u001b[0;34m)\u001b[0m\u001b[0;34m:\u001b[0m\u001b[0;34m\u001b[0m\u001b[0m\n\u001b[1;32m     16\u001b[0m         \u001b[0;32mwhile\u001b[0m \u001b[0mself\u001b[0m\u001b[0;34m.\u001b[0m\u001b[0mcounter\u001b[0m \u001b[0;34m<\u001b[0m \u001b[0mn_requests\u001b[0m\u001b[0;34m:\u001b[0m\u001b[0;34m\u001b[0m\u001b[0m\n\u001b[0;32m---> 17\u001b[0;31m             \u001b[0mself\u001b[0m\u001b[0;34m.\u001b[0m\u001b[0mcrawl\u001b[0m\u001b[0;34m(\u001b[0m\u001b[0;34m)\u001b[0m\u001b[0;34m\u001b[0m\u001b[0m\n\u001b[0m\u001b[1;32m     18\u001b[0m \u001b[0;34m\u001b[0m\u001b[0m\n\u001b[1;32m     19\u001b[0m     \u001b[0;31m## get game_history of one player\u001b[0m\u001b[0;34m\u001b[0m\u001b[0;34m\u001b[0m\u001b[0m\n",
        "\u001b[0;32m<ipython-input-3-fbe90d07acf6>\u001b[0m in \u001b[0;36mcrawl\u001b[0;34m(self)\u001b[0m\n\u001b[1;32m     30\u001b[0m         \u001b[0;32mprint\u001b[0m \u001b[0;34m\"Crawling player \"\u001b[0m\u001b[0;34m,\u001b[0m \u001b[0mplayer_id\u001b[0m\u001b[0;34m\u001b[0m\u001b[0m\n\u001b[1;32m     31\u001b[0m         \u001b[0mmatch_history\u001b[0m \u001b[0;34m=\u001b[0m \u001b[0mrawpi\u001b[0m\u001b[0;34m.\u001b[0m\u001b[0mget_matchhistory\u001b[0m\u001b[0;34m(\u001b[0m\u001b[0mregion\u001b[0m\u001b[0;34m,\u001b[0m \u001b[0mplayer_id\u001b[0m\u001b[0;34m)\u001b[0m\u001b[0;34m\u001b[0m\u001b[0m\n\u001b[0;32m---> 32\u001b[0;31m         \u001b[0mmatch_history\u001b[0m \u001b[0;34m=\u001b[0m \u001b[0mjson\u001b[0m\u001b[0;34m.\u001b[0m\u001b[0mloads\u001b[0m\u001b[0;34m(\u001b[0m\u001b[0mmatch_history\u001b[0m\u001b[0;34m.\u001b[0m\u001b[0mtext\u001b[0m\u001b[0;34m)\u001b[0m\u001b[0;34m[\u001b[0m\u001b[0;34m\"matches\"\u001b[0m\u001b[0;34m]\u001b[0m\u001b[0;34m\u001b[0m\u001b[0m\n\u001b[0m\u001b[1;32m     33\u001b[0m         \u001b[0mmatch_ids\u001b[0m \u001b[0;34m=\u001b[0m \u001b[0;34m[\u001b[0m\u001b[0mx\u001b[0m\u001b[0;34m[\u001b[0m\u001b[0;34m\"matchId\"\u001b[0m\u001b[0;34m]\u001b[0m \u001b[0;32mfor\u001b[0m \u001b[0mx\u001b[0m \u001b[0;32min\u001b[0m \u001b[0mmatch_history\u001b[0m\u001b[0;34m]\u001b[0m\u001b[0;34m\u001b[0m\u001b[0m\n\u001b[1;32m     34\u001b[0m         \u001b[0mself\u001b[0m\u001b[0;34m.\u001b[0m\u001b[0mmatch_ids\u001b[0m\u001b[0;34m.\u001b[0m\u001b[0mextend\u001b[0m\u001b[0;34m(\u001b[0m\u001b[0mmatch_ids\u001b[0m\u001b[0;34m)\u001b[0m\u001b[0;34m\u001b[0m\u001b[0m\n",
        "\u001b[0;32m/Users/chris/anaconda/python.app/Contents/lib/python2.7/json/__init__.pyc\u001b[0m in \u001b[0;36mloads\u001b[0;34m(s, encoding, cls, object_hook, parse_float, parse_int, parse_constant, object_pairs_hook, **kw)\u001b[0m\n\u001b[1;32m    336\u001b[0m             \u001b[0mparse_int\u001b[0m \u001b[0;32mis\u001b[0m \u001b[0mNone\u001b[0m \u001b[0;32mand\u001b[0m \u001b[0mparse_float\u001b[0m \u001b[0;32mis\u001b[0m \u001b[0mNone\u001b[0m \u001b[0;32mand\u001b[0m\u001b[0;34m\u001b[0m\u001b[0m\n\u001b[1;32m    337\u001b[0m             parse_constant is None and object_pairs_hook is None and not kw):\n\u001b[0;32m--> 338\u001b[0;31m         \u001b[0;32mreturn\u001b[0m \u001b[0m_default_decoder\u001b[0m\u001b[0;34m.\u001b[0m\u001b[0mdecode\u001b[0m\u001b[0;34m(\u001b[0m\u001b[0ms\u001b[0m\u001b[0;34m)\u001b[0m\u001b[0;34m\u001b[0m\u001b[0m\n\u001b[0m\u001b[1;32m    339\u001b[0m     \u001b[0;32mif\u001b[0m \u001b[0mcls\u001b[0m \u001b[0;32mis\u001b[0m \u001b[0mNone\u001b[0m\u001b[0;34m:\u001b[0m\u001b[0;34m\u001b[0m\u001b[0m\n\u001b[1;32m    340\u001b[0m         \u001b[0mcls\u001b[0m \u001b[0;34m=\u001b[0m \u001b[0mJSONDecoder\u001b[0m\u001b[0;34m\u001b[0m\u001b[0m\n",
        "\u001b[0;32m/Users/chris/anaconda/python.app/Contents/lib/python2.7/json/decoder.pyc\u001b[0m in \u001b[0;36mdecode\u001b[0;34m(self, s, _w)\u001b[0m\n\u001b[1;32m    364\u001b[0m \u001b[0;34m\u001b[0m\u001b[0m\n\u001b[1;32m    365\u001b[0m         \"\"\"\n\u001b[0;32m--> 366\u001b[0;31m         \u001b[0mobj\u001b[0m\u001b[0;34m,\u001b[0m \u001b[0mend\u001b[0m \u001b[0;34m=\u001b[0m \u001b[0mself\u001b[0m\u001b[0;34m.\u001b[0m\u001b[0mraw_decode\u001b[0m\u001b[0;34m(\u001b[0m\u001b[0ms\u001b[0m\u001b[0;34m,\u001b[0m \u001b[0midx\u001b[0m\u001b[0;34m=\u001b[0m\u001b[0m_w\u001b[0m\u001b[0;34m(\u001b[0m\u001b[0ms\u001b[0m\u001b[0;34m,\u001b[0m \u001b[0;36m0\u001b[0m\u001b[0;34m)\u001b[0m\u001b[0;34m.\u001b[0m\u001b[0mend\u001b[0m\u001b[0;34m(\u001b[0m\u001b[0;34m)\u001b[0m\u001b[0;34m)\u001b[0m\u001b[0;34m\u001b[0m\u001b[0m\n\u001b[0m\u001b[1;32m    367\u001b[0m         \u001b[0mend\u001b[0m \u001b[0;34m=\u001b[0m \u001b[0m_w\u001b[0m\u001b[0;34m(\u001b[0m\u001b[0ms\u001b[0m\u001b[0;34m,\u001b[0m \u001b[0mend\u001b[0m\u001b[0;34m)\u001b[0m\u001b[0;34m.\u001b[0m\u001b[0mend\u001b[0m\u001b[0;34m(\u001b[0m\u001b[0;34m)\u001b[0m\u001b[0;34m\u001b[0m\u001b[0m\n\u001b[1;32m    368\u001b[0m         \u001b[0;32mif\u001b[0m \u001b[0mend\u001b[0m \u001b[0;34m!=\u001b[0m \u001b[0mlen\u001b[0m\u001b[0;34m(\u001b[0m\u001b[0ms\u001b[0m\u001b[0;34m)\u001b[0m\u001b[0;34m:\u001b[0m\u001b[0;34m\u001b[0m\u001b[0m\n",
        "\u001b[0;32m/Users/chris/anaconda/python.app/Contents/lib/python2.7/json/decoder.pyc\u001b[0m in \u001b[0;36mraw_decode\u001b[0;34m(self, s, idx)\u001b[0m\n\u001b[1;32m    382\u001b[0m             \u001b[0mobj\u001b[0m\u001b[0;34m,\u001b[0m \u001b[0mend\u001b[0m \u001b[0;34m=\u001b[0m \u001b[0mself\u001b[0m\u001b[0;34m.\u001b[0m\u001b[0mscan_once\u001b[0m\u001b[0;34m(\u001b[0m\u001b[0ms\u001b[0m\u001b[0;34m,\u001b[0m \u001b[0midx\u001b[0m\u001b[0;34m)\u001b[0m\u001b[0;34m\u001b[0m\u001b[0m\n\u001b[1;32m    383\u001b[0m         \u001b[0;32mexcept\u001b[0m \u001b[0mStopIteration\u001b[0m\u001b[0;34m:\u001b[0m\u001b[0;34m\u001b[0m\u001b[0m\n\u001b[0;32m--> 384\u001b[0;31m             \u001b[0;32mraise\u001b[0m \u001b[0mValueError\u001b[0m\u001b[0;34m(\u001b[0m\u001b[0;34m\"No JSON object could be decoded\"\u001b[0m\u001b[0;34m)\u001b[0m\u001b[0;34m\u001b[0m\u001b[0m\n\u001b[0m\u001b[1;32m    385\u001b[0m         \u001b[0;32mreturn\u001b[0m \u001b[0mobj\u001b[0m\u001b[0;34m,\u001b[0m \u001b[0mend\u001b[0m\u001b[0;34m\u001b[0m\u001b[0m\n",
        "\u001b[0;31mValueError\u001b[0m: No JSON object could be decoded"
       ]
      }
     ],
     "prompt_number": 5
    },
    {
     "cell_type": "code",
     "collapsed": false,
     "input": [
      "ids = map(str, set(crawler.match_ids))"
     ],
     "language": "python",
     "metadata": {},
     "outputs": [],
     "prompt_number": 6
    },
    {
     "cell_type": "code",
     "collapsed": false,
     "input": [
      "f = open('../data/match-ids.txt','w')\n",
      "f.write(\"\\n\".join(ids)) \n",
      "f.close() "
     ],
     "language": "python",
     "metadata": {},
     "outputs": [],
     "prompt_number": 7
    },
    {
     "cell_type": "code",
     "collapsed": false,
     "input": [
      "len(set(ids))"
     ],
     "language": "python",
     "metadata": {},
     "outputs": [
      {
       "metadata": {},
       "output_type": "pyout",
       "prompt_number": 10,
       "text": [
        "447"
       ]
      }
     ],
     "prompt_number": 10
    },
    {
     "cell_type": "code",
     "collapsed": false,
     "input": [],
     "language": "python",
     "metadata": {},
     "outputs": []
    }
   ],
   "metadata": {}
  }
 ]
}