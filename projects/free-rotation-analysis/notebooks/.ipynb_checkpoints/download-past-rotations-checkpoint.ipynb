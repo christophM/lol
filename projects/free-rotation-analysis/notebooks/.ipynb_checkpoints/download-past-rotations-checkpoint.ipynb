{
 "metadata": {
  "name": "",
  "signature": "sha256:c69977862975013cceead2d53515b5235a80d7cfde04c817f6627c3a6f635e71"
 },
 "nbformat": 3,
 "nbformat_minor": 0,
 "worksheets": [
  {
   "cells": [
    {
     "cell_type": "markdown",
     "metadata": {},
     "source": [
      "# Download historical free rotations"
     ]
    },
    {
     "cell_type": "markdown",
     "metadata": {},
     "source": [
      "TODO:\n",
      "* Bring into pandas.DataFrame form with one column for date and one column for champions\n",
      "* Begin new script for building time variables (for survival-like analysis)\n",
      "\n",
      "OPTIONAL TODO\n",
      "* Solve date issue for seasons smaller or equal than Pre-Season 3\n"
     ]
    },
    {
     "cell_type": "code",
     "collapsed": false,
     "input": [
      "from lxml import html\n",
      "import requests\n",
      "import numpy as np\n",
      "import pandas as pd"
     ],
     "language": "python",
     "metadata": {},
     "outputs": [],
     "prompt_number": 1
    },
    {
     "cell_type": "code",
     "collapsed": false,
     "input": [
      "def get_rotation_html(uri):    \n",
      "    page = requests.get(uri)\n",
      "    return html.fromstring(page.text)\n",
      "\n",
      "def rotation_dates_from_html(tree):\n",
      "    dates = tree.xpath('//td[@style=\"width:33%;\"]//th[@colspan=\"2\"]/text()')\n",
      "    dates_array = filter(lambda x: x != \"\\n\", dates)\n",
      "    d1 = dates_array[0::2]\n",
      "    d2 = dates_array[1::2]\n",
      "    return ['%s%s' % t for t in zip(d1, d2)]\n",
      "\n",
      "def rotation_champions_from_html(tree):\n",
      "    return np.array(tree.xpath('//td[@style=\"width:33%;\"]//a/@title')[1::2])\n",
      "\n",
      "def combine_dates_and_champions(dates, champions):\n",
      "    rotations = dict()\n",
      "    for x in range(0, len(dates)):\n",
      "        champ_indices = range(x * 10, (x + 1) * 10)\n",
      "        rotations.setdefault(dates[x], champions[champ_indices])\n",
      "    return rotations\n"
     ],
     "language": "python",
     "metadata": {},
     "outputs": [],
     "prompt_number": 2
    },
    {
     "cell_type": "markdown",
     "metadata": {},
     "source": [
      "Download and pars"
     ]
    },
    {
     "cell_type": "code",
     "collapsed": false,
     "input": [
      "rotation_uris = {\n",
      "                 \"Season 4\":\"http://leagueoflegends.wikia.com/wiki/Champion_Rotation_Schedule_%28Season_Four%29\", \n",
      "                 \"Preseason 4\": \"http://leagueoflegends.wikia.com/wiki/Champion_Rotation_Schedule_(Pre-Season_Four)\",\n",
      "                 \"Preseason 5\":\"http://leagueoflegends.wikia.com/wiki/Champion_Rotation_Schedule_(Pre-Season_Five)\", \n",
      "                 \"Season 3\": \"http://leagueoflegends.wikia.com/wiki/Champion_Rotation_Schedule_(Season_Three)\", \n",
      "                 #\"Preseason 1\": \"http://leagueoflegends.wikia.com/wiki/Champion_Rotation_Schedule_(Pre-Season_One)\", \n",
      "                 #\"Season 1\": \"http://leagueoflegends.wikia.com/wiki/Champion_Rotation_Schedule_(Season_One)\", \n",
      "                 #\"Preseason 2\": \"http://leagueoflegends.wikia.com/wiki/Champion_Rotation_Schedule_(Pre-Season_Two)\", \n",
      "                 # \"Season 2\": \"http://leagueoflegends.wikia.com/wiki/Champion_Rotation_Schedule_(Season_Two)\", \n",
      "                 #\"Preseason 3\": \"http://leagueoflegends.wikia.com/wiki/Champion_Rotation_Schedule_(Pre-Season_Three)\"\n",
      "}\n"
     ],
     "language": "python",
     "metadata": {},
     "outputs": [],
     "prompt_number": 3
    },
    {
     "cell_type": "code",
     "collapsed": false,
     "input": [
      "def df_from_uri(season, url):\n",
      "    ## Extract dates and champions\n",
      "    tree = get_rotation_html(url)\n",
      "    dates_clean = rotation_dates_from_html(tree)\n",
      "    champions = rotation_champions_from_html(tree)\n",
      "    ## Fuse lists\n",
      "    rotation = combine_dates_and_champions(dates_clean, champions)\n",
      "    rotation_df = pd.DataFrame.from_dict(rotation).T\n",
      "    rotation_df['date'] = pd.DatetimeIndex(rotation_df.index)\n",
      "    rotation_df['season'] = season\n",
      "    return rotation_df\n",
      "\n",
      "rotations_list = [df_from_uri(season, url) for season, url in rotation_uris.iteritems()]"
     ],
     "language": "python",
     "metadata": {},
     "outputs": [],
     "prompt_number": 4
    },
    {
     "cell_type": "code",
     "collapsed": false,
     "input": [
      "rotations_df = pd.concat(rotations_list)\n",
      "rotations_m = pd.melt(rotations_df, id_vars = [\"date\", \"season\"], value_name = \"Champion\")\n",
      "rotations_m.drop(\"variable\", inplace = True, axis = 1)\n",
      "rotations_m.to_csv(\"../data/historic-raw-rotations.csv\", index = False)"
     ],
     "language": "python",
     "metadata": {},
     "outputs": [],
     "prompt_number": 6
    }
   ],
   "metadata": {}
  }
 ]
}