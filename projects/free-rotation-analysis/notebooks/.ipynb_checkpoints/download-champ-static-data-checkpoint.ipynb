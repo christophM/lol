{
 "metadata": {
  "name": "",
  "signature": "sha256:7d39aec8e40323006e2f877ebad2e863dccffebf326f9397c3953b73610b0823"
 },
 "nbformat": 3,
 "nbformat_minor": 0,
 "worksheets": [
  {
   "cells": [
    {
     "cell_type": "markdown",
     "metadata": {},
     "source": [
      "## Download static champion data"
     ]
    },
    {
     "cell_type": "markdown",
     "metadata": {},
     "source": [
      "This data is stored and used for predicting the free champion rotation"
     ]
    },
    {
     "cell_type": "code",
     "collapsed": false,
     "input": [
      "import rawpi\n",
      "import json\n",
      "import pandas as pd\n",
      "import numpy as np"
     ],
     "language": "python",
     "metadata": {},
     "outputs": [],
     "prompt_number": 1
    },
    {
     "cell_type": "code",
     "collapsed": false,
     "input": [
      "champs_raw = rawpi.get_champion_list(region=\"euw\", champData=\"all\").text\n",
      "champs = json.loads(champs_raw)[\"data\"]"
     ],
     "language": "python",
     "metadata": {},
     "outputs": []
    },
    {
     "cell_type": "code",
     "collapsed": false,
     "input": [
      "def summarise_champ(champ_data):\n",
      "    \"\"\"\n",
      "    Extract features from the champion data \n",
      "    \"\"\"\n",
      "    champ_dict = {\n",
      "        \"Champion\": champ_data[\"name\"],\n",
      "        \"attack\": champ_data[\"info\"][\"attack\"],\n",
      "        \"defense\": champ_data[\"info\"][\"defense\"],\n",
      "        \"difficulty\": champ_data[\"info\"][\"difficulty\"],\n",
      "        \"magic\": champ_data[\"info\"][\"magic\"],\n",
      "        \"partype\": champ_data[\"partype\"], \n",
      "        \"main_role\": champ_data[\"tags\"][0], \n",
      "        \"secondary_role\": champ_data[\"tags\"][1] if len(champ_data[\"tags\"]) > 1 else \"\"\n",
      "    }\n",
      "    return champ_dict\n",
      "    "
     ],
     "language": "python",
     "metadata": {},
     "outputs": []
    },
    {
     "cell_type": "code",
     "collapsed": false,
     "input": [
      "champs_df = pd.DataFrame([summarise_champ(v) for k,v in champs.iteritems()])\n",
      "## Support is misspelled sometimes\n",
      "champs_df[\"main_role\"] = champs_df[\"main_role\"].str.replace(\"Suppport\", \"Support\")\n",
      "champs_df[\"secondary_role\"] = champs_df[\"secondary_role\"].str.replace(\"Suppport\", \"Support\")\n",
      "champs_df.fillna(0, inplace=True)\n",
      "champs_df.to_csv(\"../data/champs-static-data.csv\", index=False)"
     ],
     "language": "python",
     "metadata": {},
     "outputs": []
    }
   ],
   "metadata": {}
  }
 ]
}