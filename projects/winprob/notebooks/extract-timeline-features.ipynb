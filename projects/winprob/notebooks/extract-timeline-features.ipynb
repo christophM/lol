{
 "metadata": {
  "name": "",
  "signature": "sha256:f09b9902b84695f3b98747c5b3a71a24c1a9aa0d9b7a9e69965fd9c363edbfc5"
 },
 "nbformat": 3,
 "nbformat_minor": 0,
 "worksheets": [
  {
   "cells": [
    {
     "cell_type": "markdown",
     "metadata": {},
     "source": [
      "# Extract features from timelines"
     ]
    },
    {
     "cell_type": "markdown",
     "metadata": {},
     "source": [
      "TODO:\n",
      "- for frame_to_dict function build to sub functions: events_to_dict, participantsFrame_to_dict; combine both dicts in to_dict\n",
      "- rewrite frame_to_dict to except as parameter the frame from on timestamp before and add \"sum_of_dragons_100|200\" feature and use reduce in match_to_dataset instead of [ for ...]\n",
      "- Check if there can be more extracted from the participantFrames\n",
      "- Extract more event features"
     ]
    },
    {
     "cell_type": "code",
     "collapsed": false,
     "input": [
      "import os \n",
      "import json\n",
      "import sys\n",
      "import pandas as pd\n",
      "sys.path.append(\"../wpmodel/\")\n",
      "import features"
     ],
     "language": "python",
     "metadata": {},
     "outputs": [],
     "prompt_number": 6
    },
    {
     "cell_type": "markdown",
     "metadata": {},
     "source": [
      "## Load raw timelines from disk"
     ]
    },
    {
     "cell_type": "code",
     "collapsed": false,
     "input": [
      "## Load timelines from disk to memory\n",
      "timelines_dir = \"../data/timelines/\"\n",
      "## Loop over timelines and extract features\n",
      " \n",
      "def read_timeline(filename):\n",
      "    fname = timelines_dir + fn\n",
      "    with open(fname) as f:\n",
      "        match = json.load(f)\n",
      "    return match\n",
      "\n",
      "timelines_json = [read_timeline(fn) for fn in os.listdir(timelines_dir)]"
     ],
     "language": "python",
     "metadata": {},
     "outputs": [],
     "prompt_number": 2
    },
    {
     "cell_type": "markdown",
     "metadata": {},
     "source": [
      "## Compute the features"
     ]
    },
    {
     "cell_type": "code",
     "collapsed": false,
     "input": [
      "data_rows =  [features.match_to_dataset(timeline) for timeline in timelines_json if \"timeline\" in timeline]"
     ],
     "language": "python",
     "metadata": {},
     "outputs": [],
     "prompt_number": 3
    },
    {
     "cell_type": "code",
     "collapsed": false,
     "input": [
      "data_rows_flattened = [item for sublist in data_rows for item in sublist]"
     ],
     "language": "python",
     "metadata": {},
     "outputs": [],
     "prompt_number": 4
    },
    {
     "cell_type": "code",
     "collapsed": false,
     "input": [
      "timelines_df = pd.DataFrame(data_rows_flattened)"
     ],
     "language": "python",
     "metadata": {},
     "outputs": [],
     "prompt_number": 7
    },
    {
     "cell_type": "code",
     "collapsed": false,
     "input": [
      "timelines_df.to_csv(\"../data/timelines_df.csv\", index=False)"
     ],
     "language": "python",
     "metadata": {},
     "outputs": [],
     "prompt_number": 8
    }
   ],
   "metadata": {}
  }
 ]
}