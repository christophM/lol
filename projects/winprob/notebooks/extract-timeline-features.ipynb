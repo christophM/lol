{
 "metadata": {
  "name": "",
  "signature": "sha256:844102ff9fadf0f35a3bb621110085c1517c91566745048b430a03e8f576aab3"
 },
 "nbformat": 3,
 "nbformat_minor": 0,
 "worksheets": [
  {
   "cells": [
    {
     "cell_type": "markdown",
     "metadata": {},
     "source": [
      "# Extract features from timelines"
     ]
    },
    {
     "cell_type": "markdown",
     "metadata": {},
     "source": [
      "TODO:\n",
      "- for frame_to_dict function build to sub functions: events_to_dict, participantsFrame_to_dict; combine both dicts in to_dict\n",
      "- rewrite frame_to_dict to except as parameter the frame from on timestamp before and add \"sum_of_dragons_100|200\" feature and use reduce in match_to_dataset instead of [ for ...]\n",
      "- Check if there can be more extracted from the participantFrames\n",
      "- Extract more event features"
     ]
    },
    {
     "cell_type": "code",
     "collapsed": false,
     "input": [
      "import os \n",
      "import json\n",
      "import sys\n",
      "import pandas as pd\n",
      "sys.path.append(\"../wpmodel/\")\n",
      "import features\n",
      "%load_ext autoreload\n",
      "%reload_ext autoreload\n",
      "%autoreload 2"
     ],
     "language": "python",
     "metadata": {},
     "outputs": [
      {
       "output_type": "stream",
       "stream": "stdout",
       "text": [
        "The autoreload extension is already loaded. To reload it, use:\n",
        "  %reload_ext autoreload\n"
       ]
      }
     ],
     "prompt_number": 2
    },
    {
     "cell_type": "markdown",
     "metadata": {},
     "source": [
      "## Load raw timelines from disk"
     ]
    },
    {
     "cell_type": "code",
     "collapsed": false,
     "input": [
      "## Load timelines from disk to memory\n",
      "timelines_dir = \"../data/timelines/\"\n",
      "## Loop over timelines and extract features\n",
      " \n",
      "def read_timeline(filename):\n",
      "    fname = timelines_dir + fn\n",
      "    with open(fname) as f:\n",
      "        match = json.load(f)\n",
      "    return match\n",
      "\n",
      "timelines_json = [read_timeline(fn) for fn in os.listdir(timelines_dir)]"
     ],
     "language": "python",
     "metadata": {},
     "outputs": [],
     "prompt_number": 59
    },
    {
     "cell_type": "code",
     "collapsed": false,
     "input": [
      "## Filter out matches without a timeline.\n",
      "timelines_json = [timeline for timeline in timelines_json if \"timeline\" in timeline.keys()]"
     ],
     "language": "python",
     "metadata": {},
     "outputs": [],
     "prompt_number": 60
    },
    {
     "cell_type": "markdown",
     "metadata": {},
     "source": [
      "## Compute the features"
     ]
    },
    {
     "cell_type": "code",
     "collapsed": false,
     "input": [
      "fb = features.FeatureBuilder(kind=\"experiment\")"
     ],
     "language": "python",
     "metadata": {},
     "outputs": [],
     "prompt_number": 95
    },
    {
     "cell_type": "code",
     "collapsed": false,
     "input": [
      "timelines_df = fb.transform(timelines_json)"
     ],
     "language": "python",
     "metadata": {},
     "outputs": [],
     "prompt_number": 102
    },
    {
     "cell_type": "code",
     "collapsed": false,
     "input": [
      "timelines_df.to_csv(\"../data/timelines_df.csv\")"
     ],
     "language": "python",
     "metadata": {},
     "outputs": [],
     "prompt_number": 103
    },
    {
     "cell_type": "code",
     "collapsed": false,
     "input": [
      "labels = features.get_labels(timelines_json)"
     ],
     "language": "python",
     "metadata": {},
     "outputs": [],
     "prompt_number": 104
    },
    {
     "cell_type": "code",
     "collapsed": false,
     "input": [
      "labels.to_csv(\"../data/timelines_labels.csv\")"
     ],
     "language": "python",
     "metadata": {},
     "outputs": [],
     "prompt_number": 106
    }
   ],
   "metadata": {}
  }
 ]
}