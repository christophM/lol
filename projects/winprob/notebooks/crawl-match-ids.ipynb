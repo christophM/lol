{
 "metadata": {
  "name": "",
  "signature": "sha256:15c166afbd3048d8ecbeae6763f39201b4a0202eb43a7a25504a51a5bcd95551"
 },
 "nbformat": 3,
 "nbformat_minor": 0,
 "worksheets": [
  {
   "cells": [
    {
     "cell_type": "markdown",
     "metadata": {},
     "source": [
      "# Get some match ids that can be downloaded"
     ]
    },
    {
     "cell_type": "markdown",
     "metadata": {},
     "source": [
      "TODO:\n",
      "- Add error catching if there comes bullshit from the API\n",
      "- Download more ids (1000 or more)\n"
     ]
    },
    {
     "cell_type": "code",
     "collapsed": false,
     "input": [
      "import sys\n",
      "sys.path.append('/Users/chris/Projects/lol/lib/')\n",
      "import rawpi\n",
      "import json\n",
      "import numpy as np\n",
      "import time"
     ],
     "language": "python",
     "metadata": {},
     "outputs": [],
     "prompt_number": 13
    },
    {
     "cell_type": "code",
     "collapsed": false,
     "input": [
      "region = \"na\""
     ],
     "language": "python",
     "metadata": {},
     "outputs": [],
     "prompt_number": 14
    },
    {
     "cell_type": "code",
     "collapsed": false,
     "input": [
      "class PlayerCrawler():\n",
      "    \"\"\"\n",
      "    Only is there to get some player ids.\n",
      "    Start point is some player id. The crawler takes the last ten matches and checks the other player ids. \n",
      "    ids always refer to matches\n",
      "    \"\"\"\n",
      "    player_ids_done = []\n",
      "    match_ids_done = []\n",
      "    counter = 0\n",
      "    match_ids = []\n",
      "    \n",
      "    def __init__(self, start_id):\n",
      "        self.player_ids_next = [start_id]\n",
      "    \n",
      "    def start(self, n_requests=100):\n",
      "        while self.counter < n_requests:\n",
      "            try:\n",
      "                self.crawl()\n",
      "            except Exception:\n",
      "                print \"one crawl failed\"\n",
      "    \n",
      "    ## get game_history of one player\n",
      "    ## extract the ten game_ids and store them\n",
      "    ## go to one random game, store the 10 players, check for the ones already seen\n",
      "    ## start on top\n",
      "    \n",
      "    def crawl(self):\n",
      "        time.sleep(1.01)\n",
      "        self.counter += 1\n",
      "        player_id = self.player_ids_next.pop()\n",
      "        self.player_ids_done.append(player_id)\n",
      "        print \"Crawling player \", player_id\n",
      "        \n",
      "        match_history = rawpi.get_matchhistory(region, player_id)\n",
      "        match_history = json.loads(match_history.text)[\"matches\"]\n",
      "        match_ids = [x[\"matchId\"] for x in match_history]\n",
      "        self.match_ids.extend(match_ids)\n",
      "        ## get random match\n",
      "        random_number = np.random.choice(range(0,9))\n",
      "        random_match = match_ids[random_number]\n",
      "        \n",
      "        match = json.loads(rawpi.get_match(region=region, matchId=random_match, includeTimeline=False).text)\n",
      "        for player in match[\"participantIdentities\"]:\n",
      "            new_id = player[\"player\"][\"summonerId\"]\n",
      "            if new_id not in self.player_ids_done:\n",
      "                self.player_ids_next.append(new_id)        "
     ],
     "language": "python",
     "metadata": {},
     "outputs": [],
     "prompt_number": 15
    },
    {
     "cell_type": "code",
     "collapsed": false,
     "input": [
      "crawler = PlayerCrawler(start_id=19853822)"
     ],
     "language": "python",
     "metadata": {},
     "outputs": [],
     "prompt_number": 16
    },
    {
     "cell_type": "code",
     "collapsed": false,
     "input": [
      "crawler.start(100)"
     ],
     "language": "python",
     "metadata": {},
     "outputs": [
      {
       "output_type": "stream",
       "stream": "stdout",
       "text": [
        "Crawling player  19853822\n",
        "Crawling player "
       ]
      },
      {
       "output_type": "stream",
       "stream": "stdout",
       "text": [
        " 44889078\n",
        "Crawling player "
       ]
      },
      {
       "output_type": "stream",
       "stream": "stdout",
       "text": [
        " 31331029\n",
        "Crawling player "
       ]
      },
      {
       "output_type": "stream",
       "stream": "stdout",
       "text": [
        " 46295707\n",
        "Crawling player "
       ]
      },
      {
       "output_type": "stream",
       "stream": "stdout",
       "text": [
        " 30179959\n",
        "Crawling player "
       ]
      },
      {
       "output_type": "stream",
       "stream": "stdout",
       "text": [
        " 31829792\n",
        "Crawling player "
       ]
      },
      {
       "output_type": "stream",
       "stream": "stdout",
       "text": [
        " 20068286\n",
        "Crawling player "
       ]
      },
      {
       "output_type": "stream",
       "stream": "stdout",
       "text": [
        " 21265692\n",
        "Crawling player "
       ]
      },
      {
       "output_type": "stream",
       "stream": "stdout",
       "text": [
        " 28789992\n",
        "Crawling player "
       ]
      },
      {
       "output_type": "stream",
       "stream": "stdout",
       "text": [
        " 21822366\n",
        "Crawling player "
       ]
      },
      {
       "output_type": "stream",
       "stream": "stdout",
       "text": [
        " 48561423\n",
        "Crawling player "
       ]
      },
      {
       "output_type": "stream",
       "stream": "stdout",
       "text": [
        " 30409719\n",
        "Crawling player "
       ]
      },
      {
       "output_type": "stream",
       "stream": "stdout",
       "text": [
        " 20046605\n",
        "Crawling player "
       ]
      },
      {
       "output_type": "stream",
       "stream": "stdout",
       "text": [
        " 20149229\n",
        "Crawling player "
       ]
      },
      {
       "output_type": "stream",
       "stream": "stdout",
       "text": [
        " 19259932\n",
        "Crawling player "
       ]
      },
      {
       "output_type": "stream",
       "stream": "stdout",
       "text": [
        " 21483550\n",
        "Crawling player "
       ]
      },
      {
       "output_type": "stream",
       "stream": "stdout",
       "text": [
        " 43433932\n",
        "Crawling player "
       ]
      },
      {
       "output_type": "stream",
       "stream": "stdout",
       "text": [
        " 23994633\n",
        "Crawling player "
       ]
      },
      {
       "output_type": "stream",
       "stream": "stdout",
       "text": [
        " 24094726\n",
        "Crawling player "
       ]
      },
      {
       "output_type": "stream",
       "stream": "stdout",
       "text": [
        " 22122236\n",
        "Crawling player "
       ]
      },
      {
       "output_type": "stream",
       "stream": "stdout",
       "text": [
        " 31951496\n",
        "Crawling player "
       ]
      },
      {
       "output_type": "stream",
       "stream": "stdout",
       "text": [
        " 48544082\n",
        "Crawling player "
       ]
      },
      {
       "output_type": "stream",
       "stream": "stdout",
       "text": [
        " 25312589\n",
        "Crawling player "
       ]
      },
      {
       "output_type": "stream",
       "stream": "stdout",
       "text": [
        " 23593580\n",
        "Crawling player "
       ]
      },
      {
       "output_type": "stream",
       "stream": "stdout",
       "text": [
        " 25786675\n",
        "Crawling player "
       ]
      },
      {
       "output_type": "stream",
       "stream": "stdout",
       "text": [
        " 19868641\n",
        "Crawling player "
       ]
      },
      {
       "output_type": "stream",
       "stream": "stdout",
       "text": [
        " 47076912\n",
        "Crawling player "
       ]
      },
      {
       "output_type": "stream",
       "stream": "stdout",
       "text": [
        " 43915139\n",
        "Crawling player "
       ]
      },
      {
       "output_type": "stream",
       "stream": "stdout",
       "text": [
        " 34590006\n",
        "Crawling player "
       ]
      },
      {
       "output_type": "stream",
       "stream": "stdout",
       "text": [
        " 46336156\n",
        "Crawling player "
       ]
      },
      {
       "output_type": "stream",
       "stream": "stdout",
       "text": [
        " 19704575\n",
        "Crawling player "
       ]
      },
      {
       "output_type": "stream",
       "stream": "stdout",
       "text": [
        " 19528030\n",
        "Crawling player "
       ]
      },
      {
       "output_type": "stream",
       "stream": "stdout",
       "text": [
        " 27679337\n",
        "Crawling player "
       ]
      },
      {
       "output_type": "stream",
       "stream": "stdout",
       "text": [
        " 37464359\n",
        "Crawling player "
       ]
      },
      {
       "output_type": "stream",
       "stream": "stdout",
       "text": [
        " 30832435\n",
        "Crawling player "
       ]
      },
      {
       "output_type": "stream",
       "stream": "stdout",
       "text": [
        " 24121603\n",
        "Crawling player "
       ]
      },
      {
       "output_type": "stream",
       "stream": "stdout",
       "text": [
        " 30700116\n",
        "Crawling player "
       ]
      },
      {
       "output_type": "stream",
       "stream": "stdout",
       "text": [
        " 20473914\n",
        "Crawling player "
       ]
      },
      {
       "output_type": "stream",
       "stream": "stdout",
       "text": [
        " 20186355\n",
        "Crawling player "
       ]
      },
      {
       "output_type": "stream",
       "stream": "stdout",
       "text": [
        " 27340006\n",
        "Crawling player "
       ]
      },
      {
       "output_type": "stream",
       "stream": "stdout",
       "text": [
        " 25387019\n",
        "Crawling player "
       ]
      },
      {
       "output_type": "stream",
       "stream": "stdout",
       "text": [
        " 44907624\n",
        "Crawling player "
       ]
      },
      {
       "output_type": "stream",
       "stream": "stdout",
       "text": [
        " 30432151\n",
        "Crawling player "
       ]
      },
      {
       "output_type": "stream",
       "stream": "stdout",
       "text": [
        " 30585642\n",
        "Crawling player "
       ]
      },
      {
       "output_type": "stream",
       "stream": "stdout",
       "text": [
        " 20973976\n",
        "Crawling player "
       ]
      },
      {
       "output_type": "stream",
       "stream": "stdout",
       "text": [
        " 32497829\n",
        "Crawling player "
       ]
      },
      {
       "output_type": "stream",
       "stream": "stdout",
       "text": [
        " 24650613\n",
        "Crawling player "
       ]
      },
      {
       "output_type": "stream",
       "stream": "stdout",
       "text": [
        " 19424564\n",
        "Crawling player "
       ]
      },
      {
       "output_type": "stream",
       "stream": "stdout",
       "text": [
        " 25965377\n",
        "Crawling player "
       ]
      },
      {
       "output_type": "stream",
       "stream": "stdout",
       "text": [
        " 35682119\n",
        "Crawling player "
       ]
      },
      {
       "output_type": "stream",
       "stream": "stdout",
       "text": [
        " 25052703\n",
        "Crawling player "
       ]
      },
      {
       "output_type": "stream",
       "stream": "stdout",
       "text": [
        " 59321644\n",
        "Crawling player "
       ]
      },
      {
       "output_type": "stream",
       "stream": "stdout",
       "text": [
        " 27569598\n",
        "Crawling player "
       ]
      },
      {
       "output_type": "stream",
       "stream": "stdout",
       "text": [
        " 50924915\n",
        "Crawling player "
       ]
      },
      {
       "output_type": "stream",
       "stream": "stdout",
       "text": [
        " 26621092\n",
        "Crawling player "
       ]
      },
      {
       "output_type": "stream",
       "stream": "stdout",
       "text": [
        " 34794709\n",
        "Crawling player "
       ]
      },
      {
       "output_type": "stream",
       "stream": "stdout",
       "text": [
        " 60249585\n",
        "Crawling player "
       ]
      },
      {
       "output_type": "stream",
       "stream": "stdout",
       "text": [
        " 24759546\n",
        "Crawling player "
       ]
      },
      {
       "output_type": "stream",
       "stream": "stdout",
       "text": [
        " 42071847\n",
        "Crawling player "
       ]
      },
      {
       "output_type": "stream",
       "stream": "stdout",
       "text": [
        " 35761498\n",
        "Crawling player "
       ]
      },
      {
       "output_type": "stream",
       "stream": "stdout",
       "text": [
        " 35783042\n",
        "Crawling player "
       ]
      },
      {
       "output_type": "stream",
       "stream": "stdout",
       "text": [
        " 32874413\n",
        "Crawling player "
       ]
      },
      {
       "output_type": "stream",
       "stream": "stdout",
       "text": [
        " 27213896\n",
        "Crawling player "
       ]
      },
      {
       "output_type": "stream",
       "stream": "stdout",
       "text": [
        " 37443338\n",
        "Crawling player "
       ]
      },
      {
       "output_type": "stream",
       "stream": "stdout",
       "text": [
        " 39275735\n",
        "Crawling player "
       ]
      },
      {
       "output_type": "stream",
       "stream": "stdout",
       "text": [
        " 23856177\n",
        "Crawling player "
       ]
      },
      {
       "output_type": "stream",
       "stream": "stdout",
       "text": [
        " 29229934\n",
        "Crawling player "
       ]
      },
      {
       "output_type": "stream",
       "stream": "stdout",
       "text": [
        " 21532259\n",
        "Crawling player "
       ]
      },
      {
       "output_type": "stream",
       "stream": "stdout",
       "text": [
        " 45649547\n",
        "Crawling player "
       ]
      },
      {
       "output_type": "stream",
       "stream": "stdout",
       "text": [
        " 48082162\n",
        "Crawling player "
       ]
      },
      {
       "output_type": "stream",
       "stream": "stdout",
       "text": [
        " 40881840\n",
        "Crawling player "
       ]
      },
      {
       "output_type": "stream",
       "stream": "stdout",
       "text": [
        " 47949140\n",
        "Crawling player "
       ]
      },
      {
       "output_type": "stream",
       "stream": "stdout",
       "text": [
        " 45302199\n",
        "Crawling player "
       ]
      },
      {
       "output_type": "stream",
       "stream": "stdout",
       "text": [
        " 28748403\n",
        "Crawling player "
       ]
      },
      {
       "output_type": "stream",
       "stream": "stdout",
       "text": [
        " 54783946\n",
        "Crawling player "
       ]
      },
      {
       "output_type": "stream",
       "stream": "stdout",
       "text": [
        " 34901719\n",
        "Crawling player "
       ]
      },
      {
       "output_type": "stream",
       "stream": "stdout",
       "text": [
        " 30607095\n",
        "Crawling player "
       ]
      },
      {
       "output_type": "stream",
       "stream": "stdout",
       "text": [
        " 41180448\n",
        "Crawling player "
       ]
      },
      {
       "output_type": "stream",
       "stream": "stdout",
       "text": [
        " 44284608\n",
        "Crawling player "
       ]
      },
      {
       "output_type": "stream",
       "stream": "stdout",
       "text": [
        " 20928972\n",
        "Crawling player "
       ]
      },
      {
       "output_type": "stream",
       "stream": "stdout",
       "text": [
        " 60769858\n",
        "Crawling player "
       ]
      },
      {
       "output_type": "stream",
       "stream": "stdout",
       "text": [
        " 35704265\n",
        "Crawling player "
       ]
      },
      {
       "output_type": "stream",
       "stream": "stdout",
       "text": [
        " 45043608\n",
        "Crawling player "
       ]
      },
      {
       "output_type": "stream",
       "stream": "stdout",
       "text": [
        " 50349667\n",
        "Crawling player "
       ]
      },
      {
       "output_type": "stream",
       "stream": "stdout",
       "text": [
        " 53857746\n",
        "Crawling player "
       ]
      },
      {
       "output_type": "stream",
       "stream": "stdout",
       "text": [
        " 57388880\n",
        "Crawling player "
       ]
      },
      {
       "output_type": "stream",
       "stream": "stdout",
       "text": [
        " 58423954\n",
        "Crawling player "
       ]
      },
      {
       "output_type": "stream",
       "stream": "stdout",
       "text": [
        " 55959622\n",
        "Crawling player "
       ]
      },
      {
       "output_type": "stream",
       "stream": "stdout",
       "text": [
        " 65721173\n",
        "Crawling player "
       ]
      },
      {
       "output_type": "stream",
       "stream": "stdout",
       "text": [
        " 49899946\n",
        "Crawling player "
       ]
      },
      {
       "output_type": "stream",
       "stream": "stdout",
       "text": [
        " 41229369\n",
        "Crawling player "
       ]
      },
      {
       "output_type": "stream",
       "stream": "stdout",
       "text": [
        " 19805379\n",
        "Crawling player "
       ]
      },
      {
       "output_type": "stream",
       "stream": "stdout",
       "text": [
        " 50682502\n",
        "Crawling player "
       ]
      },
      {
       "output_type": "stream",
       "stream": "stdout",
       "text": [
        " 30689168\n",
        "Crawling player "
       ]
      },
      {
       "output_type": "stream",
       "stream": "stdout",
       "text": [
        " 44882206\n",
        "Crawling player "
       ]
      },
      {
       "output_type": "stream",
       "stream": "stdout",
       "text": [
        " 34342728\n",
        "Crawling player "
       ]
      },
      {
       "output_type": "stream",
       "stream": "stdout",
       "text": [
        " 58521289\n",
        "Crawling player "
       ]
      },
      {
       "output_type": "stream",
       "stream": "stdout",
       "text": [
        " 49314907\n",
        "Crawling player "
       ]
      },
      {
       "output_type": "stream",
       "stream": "stdout",
       "text": [
        " 56394976\n",
        "Crawling player "
       ]
      },
      {
       "output_type": "stream",
       "stream": "stdout",
       "text": [
        " 34819645\n"
       ]
      }
     ],
     "prompt_number": 9
    },
    {
     "cell_type": "code",
     "collapsed": false,
     "input": [
      "ids = map(str, set(crawler.match_ids))"
     ],
     "language": "python",
     "metadata": {},
     "outputs": [],
     "prompt_number": 10
    },
    {
     "cell_type": "code",
     "collapsed": false,
     "input": [
      "f = open('../data/match-ids.txt','w')\n",
      "f.write(\"\\n\".join(ids)) \n",
      "f.close() "
     ],
     "language": "python",
     "metadata": {},
     "outputs": [],
     "prompt_number": 11
    },
    {
     "cell_type": "code",
     "collapsed": false,
     "input": [
      "len(set(ids))"
     ],
     "language": "python",
     "metadata": {},
     "outputs": [
      {
       "metadata": {},
       "output_type": "pyout",
       "prompt_number": 12,
       "text": [
        "883"
       ]
      }
     ],
     "prompt_number": 12
    },
    {
     "cell_type": "code",
     "collapsed": false,
     "input": [],
     "language": "python",
     "metadata": {},
     "outputs": []
    }
   ],
   "metadata": {}
  }
 ]
}