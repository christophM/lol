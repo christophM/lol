{
 "metadata": {
  "name": "",
  "signature": "sha256:05ec987ad2a26426176c3b809952900be92ae7073f7954b9ad9c169b5948f127"
 },
 "nbformat": 3,
 "nbformat_minor": 0,
 "worksheets": [
  {
   "cells": [
    {
     "cell_type": "markdown",
     "metadata": {},
     "source": [
      "# Load matches"
     ]
    },
    {
     "cell_type": "markdown",
     "metadata": {},
     "source": [
      "TODO: \n",
      "\n",
      "\n",
      "LATER TODO: \n",
      "- better catch errors when you do not get back some proper json"
     ]
    },
    {
     "cell_type": "code",
     "collapsed": false,
     "input": [
      "import sys\n",
      "sys.path.append('/Users/chris/Projects/lol/lib/')\n",
      "import rawpi\n",
      "import json\n",
      "import time\n",
      "import os\n",
      "import re\n",
      "import numpy as np"
     ],
     "language": "python",
     "metadata": {},
     "outputs": [],
     "prompt_number": 1
    },
    {
     "cell_type": "code",
     "collapsed": false,
     "input": [
      "## Load match ids from file\n",
      "fname = \"../data/match-ids.txt\"\n",
      "with open(fname) as f:\n",
      "    match_ids = map(int, f.readlines())"
     ],
     "language": "python",
     "metadata": {},
     "outputs": [],
     "prompt_number": 2
    },
    {
     "cell_type": "code",
     "collapsed": false,
     "input": [
      "def match_by_id_to_file(match_id, data_dir=\"../data/timelines/\", region=\"na\"):\n",
      "    \"\"\"\n",
      "    Get a match id, download the match and store it on disk\n",
      "    \"\"\"\n",
      "    match = rawpi.get_match(region=region, matchId=match_id, includeTimeline=True).text\n",
      "    ## for some reason I get some non-JSON for some match queries\n",
      "    try:\n",
      "        match_json = json.loads(match)\n",
      "        filename = \"%sgame-timeline-%s-%i.json\" % (data_dir, region, match_id)\n",
      "        with open(filename, 'w') as outfile:\n",
      "            json.dump(match_json, outfile)\n",
      "    except Exception:\n",
      "        print \"skipped\"\n",
      "        \n",
      "def get_downloaded_matches():\n",
      "    \"\"\"\n",
      "    Check which matches I already downloaded and give back the ids\n",
      "    \"\"\"\n",
      "    ## Directory of timelines\n",
      "    timelines_dir = \"../data/timelines/\"\n",
      "    return [int(re.findall(r'\\d+', x)[0]) for x in os.listdir(timelines_dir)]     "
     ],
     "language": "python",
     "metadata": {},
     "outputs": [],
     "prompt_number": 3
    },
    {
     "cell_type": "code",
     "collapsed": false,
     "input": [
      "## Remove the ids of the downloaded matches\n",
      "downloaded_matches = get_downloaded_matches()\n",
      "match_ids = np.setdiff1d(match_ids, downloaded_matches)"
     ],
     "language": "python",
     "metadata": {},
     "outputs": [],
     "prompt_number": 4
    },
    {
     "cell_type": "code",
     "collapsed": false,
     "input": [
      "for match_id in match_ids: \n",
      "    ## TODO: add method for checking if match already downloaded\n",
      "    time.sleep(1)\n",
      "    match_by_id_to_file(match_id)"
     ],
     "language": "python",
     "metadata": {},
     "outputs": [],
     "prompt_number": 5
    },
    {
     "cell_type": "code",
     "collapsed": false,
     "input": [],
     "language": "python",
     "metadata": {},
     "outputs": []
    }
   ],
   "metadata": {}
  }
 ]
}