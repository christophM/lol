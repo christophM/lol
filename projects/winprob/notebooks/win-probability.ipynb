{
 "metadata": {
  "name": "",
  "signature": "sha256:24f51e95f5e6ab81f94b0c272624b04ab87006ab36c29080431c6786a2591bc9"
 },
 "nbformat": 3,
 "nbformat_minor": 0,
 "worksheets": [
  {
   "cells": [
    {
     "cell_type": "markdown",
     "metadata": {},
     "source": [
      "# Fit victory model"
     ]
    },
    {
     "cell_type": "markdown",
     "metadata": {},
     "source": [
      "TODO\n",
      "- cross validate some Random Forest parameters (m, min_leaf_size)\n",
      "- investigate weird behaviour after minute 40"
     ]
    },
    {
     "cell_type": "code",
     "collapsed": false,
     "input": [
      "from sklearn.ensemble import RandomForestClassifier\n",
      "import pandas as pd\n",
      "import numpy as np\n",
      "import matplotlib\n",
      "%matplotlib inline"
     ],
     "language": "python",
     "metadata": {},
     "outputs": [],
     "prompt_number": 5
    },
    {
     "cell_type": "markdown",
     "metadata": {},
     "source": [
      "## Load data"
     ]
    },
    {
     "cell_type": "code",
     "collapsed": false,
     "input": [
      "X = pd.read_csv(\"../data/timelines_df.csv\", index_col=[\"matchId\", \"timestamp\"])\n",
      "labels = pd.read_csv(\"../data/timelines_labels.csv\", index_col = [\"matchId\", \"timestamp\"])"
     ],
     "language": "python",
     "metadata": {},
     "outputs": [],
     "prompt_number": 20
    },
    {
     "cell_type": "markdown",
     "metadata": {},
     "source": [
      "## Create training and test sets"
     ]
    },
    {
     "cell_type": "code",
     "collapsed": false,
     "input": [
      "## randomly draw training and test data\n",
      "np.random.seed(42)\n",
      "sample_size = int(0.5 * len(X.index.unique()))\n",
      "train_index = np.random.choice(X.index.unique(), size=sample_size, replace=False)\n",
      "test_index = np.setdiff1d(X.index.unique(), train_index)"
     ],
     "language": "python",
     "metadata": {},
     "outputs": [],
     "prompt_number": 21
    },
    {
     "cell_type": "code",
     "collapsed": false,
     "input": [
      "X_train = X.ix[train_index]\n",
      "X_test = X.ix[test_index]\n",
      "y = labels.winner\n",
      "y_train = y.ix[train_index]\n",
      "y_test = y.ix[test_index]"
     ],
     "language": "python",
     "metadata": {},
     "outputs": [],
     "prompt_number": 22
    },
    {
     "cell_type": "markdown",
     "metadata": {},
     "source": [
      "## Fit random forest"
     ]
    },
    {
     "cell_type": "code",
     "collapsed": false,
     "input": [
      "X_train.shape"
     ],
     "language": "python",
     "metadata": {},
     "outputs": [
      {
       "metadata": {},
       "output_type": "pyout",
       "prompt_number": 24,
       "text": [
        "(23007, 30)"
       ]
      }
     ],
     "prompt_number": 24
    },
    {
     "cell_type": "code",
     "collapsed": false,
     "input": [
      "rf = RandomForestClassifier(n_estimators=200, verbose=0, min_samples_leaf=100, \n",
      "                            min_samples_split=100, random_state=42, n_jobs=2)\n",
      "rf.fit(X_train, y_train.values)"
     ],
     "language": "python",
     "metadata": {},
     "outputs": [
      {
       "metadata": {},
       "output_type": "pyout",
       "prompt_number": 25,
       "text": [
        "RandomForestClassifier(bootstrap=True, compute_importances=None,\n",
        "            criterion='gini', max_depth=None, max_features='auto',\n",
        "            min_density=None, min_samples_leaf=100, min_samples_split=100,\n",
        "            n_estimators=200, n_jobs=2, oob_score=False, random_state=42,\n",
        "            verbose=0)"
       ]
      }
     ],
     "prompt_number": 25
    },
    {
     "cell_type": "markdown",
     "metadata": {},
     "source": [
      "## Evaluate forest"
     ]
    },
    {
     "cell_type": "code",
     "collapsed": false,
     "input": [
      "## Feature importance\n",
      "importances = zip(rf.feature_importances_, X.columns)\n",
      "importances.sort(key=lambda tup: tup[0])\n",
      "importances"
     ],
     "language": "python",
     "metadata": {},
     "outputs": [
      {
       "metadata": {},
       "output_type": "pyout",
       "prompt_number": 26,
       "text": [
        "[(2.6953448407571498e-05, 'kill_inner_200'),\n",
        " (8.1655574980057656e-05, 'kill_inner_200_sum'),\n",
        " (0.00013457249286057832, 'kill_inner_100'),\n",
        " (0.00032471478544375272, 'dragons_200'),\n",
        " (0.00058506720425394382, 'kill_inner_100_sum'),\n",
        " (0.00061687885608230223, 'inhibitor_kill_200_sum'),\n",
        " (0.00088885548818757752, 'kill_inhibitor_200'),\n",
        " (0.0013143449339203086, 'kill_inhibitor_100'),\n",
        " (0.0013829745997563654, 'dragons_diff'),\n",
        " (0.0015265506963607009, 'dragons_100'),\n",
        " (0.002232173459711335, 'inhibitor_kill_100_sum'),\n",
        " (0.0023312659291472746, 'champion_kill_100'),\n",
        " (0.0036364109545996841, 'champion_kill_100_sum'),\n",
        " (0.0038421011296580852, 'building_kill_200.1'),\n",
        " (0.0038982668070515147, 'champion_kill_200'),\n",
        " (0.0039810512715707539, 'champion_kill_200_sum'),\n",
        " (0.0052043981541953117, 'building_kill_200'),\n",
        " (0.0078914605259681556, 'level_max_100'),\n",
        " (0.009164602237855141, 'level_max_200'),\n",
        " (0.009500483651982191, 'building_kill_100.1'),\n",
        " (0.0099822719378042674, 'level_sum_100'),\n",
        " (0.010926975598884997, 'building_kill_100'),\n",
        " (0.01118262245354394, 'level_sum_200'),\n",
        " (0.015451122532502838, 'champion_kill_sum_diff'),\n",
        " (0.015873164049695458, 'gold_200'),\n",
        " (0.017162989365482436, 'gold_100'),\n",
        " (0.05092192051395255, 'level_max_diff'),\n",
        " (0.18532165832608805, 'level_sum_diff'),\n",
        " (0.29771698356266518, 'gold_diff_rel'),\n",
        " (0.3268955094573876, 'gold_diff')]"
       ]
      }
     ],
     "prompt_number": 26
    },
    {
     "cell_type": "markdown",
     "metadata": {},
     "source": [
      "## Plot single match"
     ]
    },
    {
     "cell_type": "code",
     "collapsed": false,
     "input": [
      "plot_data = X.ix[train_index]\n",
      "plot_data[\"prediction\"] =  [x[1] for x in rf.predict_proba(X_train)]"
     ],
     "language": "python",
     "metadata": {},
     "outputs": [],
     "prompt_number": 29
    },
    {
     "cell_type": "code",
     "collapsed": false,
     "input": [
      "matchId = plot_data.index.levels[0].unique()[130]\n",
      "match = plot_data.ix[matchId,:]\n",
      "match = match.reset_index()\n",
      "match.sort(\"timestamp\").plot(x=\"timestamp\", y=\"prediction\", ylim=(0,1))"
     ],
     "language": "python",
     "metadata": {},
     "outputs": [
      {
       "metadata": {},
       "output_type": "pyout",
       "prompt_number": 57,
       "text": [
        "<matplotlib.axes.AxesSubplot at 0x10b3f2790>"
       ]
      },
      {
       "metadata": {},
       "output_type": "display_data",
       "png": "[encoded data removed]",
       "text": [
        "<matplotlib.figure.Figure at 0x10b3fbb10>"
       ]
      }
     ],
     "prompt_number": 57
    },
    {
     "cell_type": "markdown",
     "metadata": {},
     "source": [
      "## Evaluate performance"
     ]
    },
    {
     "cell_type": "code",
     "collapsed": false,
     "input": [
      "from sklearn.metrics import roc_auc_score\n",
      "y_true = y_test\n",
      "y_scores = [x[1] for x in rf.predict_proba(X_test)]\n",
      "roc_auc_score(y_true, y_scores)"
     ],
     "language": "python",
     "metadata": {},
     "outputs": [
      {
       "metadata": {},
       "output_type": "pyout",
       "prompt_number": 117,
       "text": [
        "0.84453094522065097"
       ]
      }
     ],
     "prompt_number": 117
    },
    {
     "cell_type": "code",
     "collapsed": false,
     "input": [
      "test_timestamp = pd.DataFrame({\"y_true\": y_test.values, \n",
      "                               \"y_scores\": pd.Series(y_scores, index=y_true.index)})\n",
      "auc_by_time = test_timestamp.reset_index()\n",
      "auc_by_time = auc_by_time[auc_by_time.timestamp < 40]\n",
      "auc_by_time = auc_by_time.groupby(\"timestamp\").apply(lambda x: pd.Series({\"auc\": roc_auc_score(x[\"y_true\"].values, x[\"y_scores\"].values), \"n\": len(x)}))"
     ],
     "language": "python",
     "metadata": {},
     "outputs": [],
     "prompt_number": 143
    },
    {
     "cell_type": "code",
     "collapsed": false,
     "input": [
      "auc_by_time.auc.plot()"
     ],
     "language": "python",
     "metadata": {},
     "outputs": [
      {
       "metadata": {},
       "output_type": "pyout",
       "prompt_number": 145,
       "text": [
        "<matplotlib.axes.AxesSubplot at 0x10bdab890>"
       ]
      },
      {
       "metadata": {},
       "output_type": "display_data",
       "png": "[encoded data removed]",
       "text": [
        "<matplotlib.figure.Figure at 0x10b22b8d0>"
       ]
      }
     ],
     "prompt_number": 145
    },
    {
     "cell_type": "code",
     "collapsed": false,
     "input": [
      "match[[\"timestamp\", \"gold_diff\", \"prediction\"]]"
     ],
     "language": "python",
     "metadata": {},
     "outputs": [
      {
       "html": [
        "<div style=\"max-height:1000px;max-width:1500px;overflow:auto;\">\n",
        "<table border=\"1\" class=\"dataframe\">\n",
        "  <thead>\n",
        "    <tr style=\"text-align: right;\">\n",
        "      <th></th>\n",
        "      <th>timestamp</th>\n",
        "      <th>gold_diff</th>\n",
        "      <th>prediction</th>\n",
        "    </tr>\n",
        "  </thead>\n",
        "  <tbody>\n",
        "    <tr>\n",
        "      <th>0 </th>\n",
        "      <td> 33</td>\n",
        "      <td>-13088</td>\n",
        "      <td> 0.100027</td>\n",
        "    </tr>\n",
        "    <tr>\n",
        "      <th>1 </th>\n",
        "      <td>  6</td>\n",
        "      <td>  -527</td>\n",
        "      <td> 0.406062</td>\n",
        "    </tr>\n",
        "    <tr>\n",
        "      <th>2 </th>\n",
        "      <td> 23</td>\n",
        "      <td>-10200</td>\n",
        "      <td> 0.081177</td>\n",
        "    </tr>\n",
        "    <tr>\n",
        "      <th>3 </th>\n",
        "      <td> 36</td>\n",
        "      <td>-12730</td>\n",
        "      <td> 0.145395</td>\n",
        "    </tr>\n",
        "    <tr>\n",
        "      <th>4 </th>\n",
        "      <td> 15</td>\n",
        "      <td> -9671</td>\n",
        "      <td> 0.016336</td>\n",
        "    </tr>\n",
        "    <tr>\n",
        "      <th>5 </th>\n",
        "      <td> 11</td>\n",
        "      <td> -4223</td>\n",
        "      <td> 0.066986</td>\n",
        "    </tr>\n",
        "    <tr>\n",
        "      <th>6 </th>\n",
        "      <td> 26</td>\n",
        "      <td> -9534</td>\n",
        "      <td> 0.169459</td>\n",
        "    </tr>\n",
        "    <tr>\n",
        "      <th>7 </th>\n",
        "      <td> 16</td>\n",
        "      <td>-11792</td>\n",
        "      <td> 0.028927</td>\n",
        "    </tr>\n",
        "    <tr>\n",
        "      <th>8 </th>\n",
        "      <td> 17</td>\n",
        "      <td> -9765</td>\n",
        "      <td> 0.084309</td>\n",
        "    </tr>\n",
        "    <tr>\n",
        "      <th>9 </th>\n",
        "      <td> 10</td>\n",
        "      <td> -1131</td>\n",
        "      <td> 0.262591</td>\n",
        "    </tr>\n",
        "    <tr>\n",
        "      <th>10</th>\n",
        "      <td> 12</td>\n",
        "      <td> -4499</td>\n",
        "      <td> 0.093499</td>\n",
        "    </tr>\n",
        "    <tr>\n",
        "      <th>11</th>\n",
        "      <td> 20</td>\n",
        "      <td>-12013</td>\n",
        "      <td> 0.026753</td>\n",
        "    </tr>\n",
        "    <tr>\n",
        "      <th>12</th>\n",
        "      <td> 14</td>\n",
        "      <td> -7599</td>\n",
        "      <td> 0.033066</td>\n",
        "    </tr>\n",
        "    <tr>\n",
        "      <th>13</th>\n",
        "      <td> 29</td>\n",
        "      <td>-12233</td>\n",
        "      <td> 0.046526</td>\n",
        "    </tr>\n",
        "    <tr>\n",
        "      <th>14</th>\n",
        "      <td>  1</td>\n",
        "      <td>    53</td>\n",
        "      <td> 0.551251</td>\n",
        "    </tr>\n",
        "    <tr>\n",
        "      <th>15</th>\n",
        "      <td> 21</td>\n",
        "      <td>-10581</td>\n",
        "      <td> 0.041932</td>\n",
        "    </tr>\n",
        "    <tr>\n",
        "      <th>16</th>\n",
        "      <td>  4</td>\n",
        "      <td>   222</td>\n",
        "      <td> 0.555415</td>\n",
        "    </tr>\n",
        "    <tr>\n",
        "      <th>17</th>\n",
        "      <td> 35</td>\n",
        "      <td>-13614</td>\n",
        "      <td> 0.117196</td>\n",
        "    </tr>\n",
        "    <tr>\n",
        "      <th>18</th>\n",
        "      <td> 25</td>\n",
        "      <td> -8413</td>\n",
        "      <td> 0.201492</td>\n",
        "    </tr>\n",
        "  </tbody>\n",
        "</table>\n",
        "</div>"
       ],
       "metadata": {},
       "output_type": "pyout",
       "prompt_number": 146,
       "text": [
        "    timestamp  gold_diff  prediction\n",
        "0          33     -13088    0.100027\n",
        "1           6       -527    0.406062\n",
        "2          23     -10200    0.081177\n",
        "3          36     -12730    0.145395\n",
        "4          15      -9671    0.016336\n",
        "5          11      -4223    0.066986\n",
        "6          26      -9534    0.169459\n",
        "7          16     -11792    0.028927\n",
        "8          17      -9765    0.084309\n",
        "9          10      -1131    0.262591\n",
        "10         12      -4499    0.093499\n",
        "11         20     -12013    0.026753\n",
        "12         14      -7599    0.033066\n",
        "13         29     -12233    0.046526\n",
        "14          1         53    0.551251\n",
        "15         21     -10581    0.041932\n",
        "16          4        222    0.555415\n",
        "17         35     -13614    0.117196\n",
        "18         25      -8413    0.201492"
       ]
      }
     ],
     "prompt_number": 146
    },
    {
     "cell_type": "code",
     "collapsed": false,
     "input": [
      "test_timestamp[\"y\"] = 1 * test_timestamp.y_true"
     ],
     "language": "python",
     "metadata": {},
     "outputs": [],
     "prompt_number": 48
    },
    {
     "cell_type": "code",
     "collapsed": false,
     "input": [
      "test_timestamp.groupby(\"timestamp\").apply(lambda x: np.mean(x[\"y_scores\"]) - np.mean(x[\"y\"])).plot()"
     ],
     "language": "python",
     "metadata": {},
     "outputs": [
      {
       "metadata": {},
       "output_type": "pyout",
       "prompt_number": 49,
       "text": [
        "<matplotlib.axes.AxesSubplot at 0x10ba72310>"
       ]
      },
      {
       "metadata": {},
       "output_type": "display_data",
       "png": "[encoded data removed]",
       "text": [
        "<matplotlib.figure.Figure at 0x10ba87790>"
       ]
      }
     ],
     "prompt_number": 49
    },
    {
     "cell_type": "code",
     "collapsed": false,
     "input": [],
     "language": "python",
     "metadata": {},
     "outputs": []
    }
   ],
   "metadata": {}
  }
 ]
}